{
  "nbformat": 4,
  "nbformat_minor": 0,
  "metadata": {
    "colab": {
      "name": "EDA.ipynb",
      "provenance": [],
      "collapsed_sections": []
    },
    "kernelspec": {
      "name": "python3",
      "display_name": "Python 3"
    },
    "language_info": {
      "name": "python"
    }
  },
  "cells": [
    {
      "cell_type": "code",
      "metadata": {
        "colab": {
          "base_uri": "https://localhost:8080/"
        },
        "id": "qoqYuoR99uPG",
        "outputId": "bd8c8ebc-b77f-4454-fcd2-a0c29b2a9f05"
      },
      "source": [
        "from google.colab import drive\n",
        "drive.mount('/content/drive')"
      ],
      "execution_count": null,
      "outputs": [
        {
          "output_type": "stream",
          "text": [
            "Mounted at /content/drive\n"
          ],
          "name": "stdout"
        }
      ]
    },
    {
      "cell_type": "code",
      "metadata": {
        "id": "OsRPP3VI8O1o"
      },
      "source": [
        "import numpy as np\n",
        "import pandas as pd"
      ],
      "execution_count": null,
      "outputs": []
    },
    {
      "cell_type": "code",
      "metadata": {
        "id": "X6FhIHw_8TVV"
      },
      "source": [
        "train_srp53 = pd.read_csv('/content/drive/MyDrive/Molecular Exploration/Data/sr-p53.smiles',\n",
        "                          sep='\\t',\n",
        "                          names=['smiles', 'id', 'target'])"
      ],
      "execution_count": null,
      "outputs": []
    },
    {
      "cell_type": "code",
      "metadata": {
        "colab": {
          "base_uri": "https://localhost:8080/",
          "height": 202
        },
        "id": "rldwQiCQ-HSC",
        "outputId": "40f8e1cd-f248-414e-dc0b-800baa2ca89a"
      },
      "source": [
        "train_srp53.head()"
      ],
      "execution_count": null,
      "outputs": [
        {
          "output_type": "execute_result",
          "data": {
            "text/html": [
              "<div>\n",
              "<style scoped>\n",
              "    .dataframe tbody tr th:only-of-type {\n",
              "        vertical-align: middle;\n",
              "    }\n",
              "\n",
              "    .dataframe tbody tr th {\n",
              "        vertical-align: top;\n",
              "    }\n",
              "\n",
              "    .dataframe thead th {\n",
              "        text-align: right;\n",
              "    }\n",
              "</style>\n",
              "<table border=\"1\" class=\"dataframe\">\n",
              "  <thead>\n",
              "    <tr style=\"text-align: right;\">\n",
              "      <th></th>\n",
              "      <th>smiles</th>\n",
              "      <th>id</th>\n",
              "      <th>target</th>\n",
              "    </tr>\n",
              "  </thead>\n",
              "  <tbody>\n",
              "    <tr>\n",
              "      <th>0</th>\n",
              "      <td>[I-].CCN1C(SC2=CC=CC=C12)=CC=CC3=[N+](CC)C4=CC...</td>\n",
              "      <td>NCGC00166288-01</td>\n",
              "      <td>1</td>\n",
              "    </tr>\n",
              "    <tr>\n",
              "      <th>1</th>\n",
              "      <td>[H][C@@]12[C@H](OC(=O)[C@@](O)(CCCC(C)(C)O)CC(...</td>\n",
              "      <td>NCGC00185752-01</td>\n",
              "      <td>1</td>\n",
              "    </tr>\n",
              "    <tr>\n",
              "      <th>2</th>\n",
              "      <td>Cl.CC(N)COC1=C(C)C=CC=C1C</td>\n",
              "      <td>NCGC00094121-01</td>\n",
              "      <td>0</td>\n",
              "    </tr>\n",
              "    <tr>\n",
              "      <th>3</th>\n",
              "      <td>CO.COC1=C(Cl)C=C(Cl)C(NC2=C(C=NC3=CC(OCCCN4CCN...</td>\n",
              "      <td>NCGC00241107-01</td>\n",
              "      <td>1</td>\n",
              "    </tr>\n",
              "    <tr>\n",
              "      <th>4</th>\n",
              "      <td>[H][C@]12SC(C)(C)[C@@H](N1C(=O)[C@@]2([H])NC(=...</td>\n",
              "      <td>NCGC00094586-01</td>\n",
              "      <td>0</td>\n",
              "    </tr>\n",
              "  </tbody>\n",
              "</table>\n",
              "</div>"
            ],
            "text/plain": [
              "                                              smiles               id  target\n",
              "0  [I-].CCN1C(SC2=CC=CC=C12)=CC=CC3=[N+](CC)C4=CC...  NCGC00166288-01       1\n",
              "1  [H][C@@]12[C@H](OC(=O)[C@@](O)(CCCC(C)(C)O)CC(...  NCGC00185752-01       1\n",
              "2                          Cl.CC(N)COC1=C(C)C=CC=C1C  NCGC00094121-01       0\n",
              "3  CO.COC1=C(Cl)C=C(Cl)C(NC2=C(C=NC3=CC(OCCCN4CCN...  NCGC00241107-01       1\n",
              "4  [H][C@]12SC(C)(C)[C@@H](N1C(=O)[C@@]2([H])NC(=...  NCGC00094586-01       0"
            ]
          },
          "metadata": {
            "tags": []
          },
          "execution_count": 5
        }
      ]
    },
    {
      "cell_type": "code",
      "metadata": {
        "colab": {
          "base_uri": "https://localhost:8080/"
        },
        "id": "CPM5hTO9-IhR",
        "outputId": "9c4df215-1173-49b3-f074-0036aa773eb8"
      },
      "source": [
        "len(train_srp53)"
      ],
      "execution_count": null,
      "outputs": [
        {
          "output_type": "execute_result",
          "data": {
            "text/plain": [
              "8634"
            ]
          },
          "metadata": {
            "tags": []
          },
          "execution_count": 6
        }
      ]
    },
    {
      "cell_type": "code",
      "metadata": {
        "colab": {
          "base_uri": "https://localhost:8080/"
        },
        "id": "lNeeKAaJ-ZuQ",
        "outputId": "2c05080b-435d-4f55-bb53-730863c2d543"
      },
      "source": [
        "sum(train_srp53.target)"
      ],
      "execution_count": null,
      "outputs": [
        {
          "output_type": "execute_result",
          "data": {
            "text/plain": [
              "537"
            ]
          },
          "metadata": {
            "tags": []
          },
          "execution_count": 7
        }
      ]
    },
    {
      "cell_type": "code",
      "metadata": {
        "id": "KssTwwKl-d7H"
      },
      "source": [
        "!pip install -q SmilesPE"
      ],
      "execution_count": null,
      "outputs": []
    },
    {
      "cell_type": "markdown",
      "metadata": {
        "id": "bk3fLu1Q-wg9"
      },
      "source": [
        "### Tokenization of string compounds with SmilesPE (Byte pair encoding library with built-in tokenizers)"
      ]
    },
    {
      "cell_type": "code",
      "metadata": {
        "colab": {
          "base_uri": "https://localhost:8080/"
        },
        "id": "_NE_5UXe-puM",
        "outputId": "d8171bba-eaf2-4384-8365-ef844ca0dec2"
      },
      "source": [
        "from SmilesPE.pretokenizer import atomwise_tokenizer\n",
        "\n",
        "smi = 'CC[N+](C)(C)Cc1ccccc1Br'\n",
        "toks = atomwise_tokenizer(smi)\n",
        "print(toks)"
      ],
      "execution_count": null,
      "outputs": [
        {
          "output_type": "stream",
          "text": [
            "['C', 'C', '[N+]', '(', 'C', ')', '(', 'C', ')', 'C', 'c', '1', 'c', 'c', 'c', 'c', 'c', '1', 'Br']\n"
          ],
          "name": "stdout"
        }
      ]
    },
    {
      "cell_type": "markdown",
      "metadata": {
        "id": "rN7dA5s2_JtD"
      },
      "source": [
        "***example of pretrained SMILES byte-pair encoding***"
      ]
    },
    {
      "cell_type": "code",
      "metadata": {
        "id": "gtjx69YSBwln"
      },
      "source": [
        "import requests\n",
        "file_url = 'https://raw.githubusercontent.com/XinhaoLi74/SmilesPE/master/SPE_ChEMBL.txt'\n",
        "\n",
        "r = requests.get(file_url, stream = True)\n",
        "\n",
        "with open('/content/drive/MyDrive/Molecular Exploration/Data/BPE_codes.txt', 'wb') as file:\n",
        "    for block in r.iter_content(chunk_size = 1024):\n",
        "        if block:\n",
        "            file.write(block)"
      ],
      "execution_count": null,
      "outputs": []
    },
    {
      "cell_type": "code",
      "metadata": {
        "id": "CdvGx-i8-vph",
        "colab": {
          "base_uri": "https://localhost:8080/",
          "height": 356
        },
        "outputId": "525d53b8-8aec-4b39-fc51-0d65287e1392"
      },
      "source": [
        "import codecs\n",
        "from SmilesPE.tokenizer import *\n",
        "\n",
        "spe_vob= codecs.open('/content/drive/MyDrive/DATA_2040/Molecular Exploration/Data/BPE_codes.txt')\n",
        "spe = SPE_Tokenizer(spe_vob)\n",
        "\n",
        "smi = 'CC[N+](C)(C)Cc1ccccc1Br'\n",
        "bpe_encoding = spe.tokenize(smi)\n",
        "\n",
        "# should get >>> 'CC [N+](C) (C)C c1ccccc1 Br'"
      ],
      "execution_count": null,
      "outputs": [
        {
          "output_type": "error",
          "ename": "FileNotFoundError",
          "evalue": "ignored",
          "traceback": [
            "\u001b[0;31m---------------------------------------------------------------------------\u001b[0m",
            "\u001b[0;31mFileNotFoundError\u001b[0m                         Traceback (most recent call last)",
            "\u001b[0;32m<ipython-input-13-ac94a98f82fc>\u001b[0m in \u001b[0;36m<module>\u001b[0;34m()\u001b[0m\n\u001b[1;32m      2\u001b[0m \u001b[0;32mfrom\u001b[0m \u001b[0mSmilesPE\u001b[0m\u001b[0;34m.\u001b[0m\u001b[0mtokenizer\u001b[0m \u001b[0;32mimport\u001b[0m \u001b[0;34m*\u001b[0m\u001b[0;34m\u001b[0m\u001b[0;34m\u001b[0m\u001b[0m\n\u001b[1;32m      3\u001b[0m \u001b[0;34m\u001b[0m\u001b[0m\n\u001b[0;32m----> 4\u001b[0;31m \u001b[0mspe_vob\u001b[0m\u001b[0;34m=\u001b[0m \u001b[0mcodecs\u001b[0m\u001b[0;34m.\u001b[0m\u001b[0mopen\u001b[0m\u001b[0;34m(\u001b[0m\u001b[0;34m'/content/drive/MyDrive/DATA_2040/Molecular Exploration/Data/BPE_codes.txt'\u001b[0m\u001b[0;34m)\u001b[0m\u001b[0;34m\u001b[0m\u001b[0;34m\u001b[0m\u001b[0m\n\u001b[0m\u001b[1;32m      5\u001b[0m \u001b[0mspe\u001b[0m \u001b[0;34m=\u001b[0m \u001b[0mSPE_Tokenizer\u001b[0m\u001b[0;34m(\u001b[0m\u001b[0mspe_vob\u001b[0m\u001b[0;34m)\u001b[0m\u001b[0;34m\u001b[0m\u001b[0;34m\u001b[0m\u001b[0m\n\u001b[1;32m      6\u001b[0m \u001b[0;34m\u001b[0m\u001b[0m\n",
            "\u001b[0;32m/usr/lib/python3.7/codecs.py\u001b[0m in \u001b[0;36mopen\u001b[0;34m(filename, mode, encoding, errors, buffering)\u001b[0m\n\u001b[1;32m    902\u001b[0m         \u001b[0;31m# Force opening of the file in binary mode\u001b[0m\u001b[0;34m\u001b[0m\u001b[0;34m\u001b[0m\u001b[0;34m\u001b[0m\u001b[0m\n\u001b[1;32m    903\u001b[0m         \u001b[0mmode\u001b[0m \u001b[0;34m=\u001b[0m \u001b[0mmode\u001b[0m \u001b[0;34m+\u001b[0m \u001b[0;34m'b'\u001b[0m\u001b[0;34m\u001b[0m\u001b[0;34m\u001b[0m\u001b[0m\n\u001b[0;32m--> 904\u001b[0;31m     \u001b[0mfile\u001b[0m \u001b[0;34m=\u001b[0m \u001b[0mbuiltins\u001b[0m\u001b[0;34m.\u001b[0m\u001b[0mopen\u001b[0m\u001b[0;34m(\u001b[0m\u001b[0mfilename\u001b[0m\u001b[0;34m,\u001b[0m \u001b[0mmode\u001b[0m\u001b[0;34m,\u001b[0m \u001b[0mbuffering\u001b[0m\u001b[0;34m)\u001b[0m\u001b[0;34m\u001b[0m\u001b[0;34m\u001b[0m\u001b[0m\n\u001b[0m\u001b[1;32m    905\u001b[0m     \u001b[0;32mif\u001b[0m \u001b[0mencoding\u001b[0m \u001b[0;32mis\u001b[0m \u001b[0;32mNone\u001b[0m\u001b[0;34m:\u001b[0m\u001b[0;34m\u001b[0m\u001b[0;34m\u001b[0m\u001b[0m\n\u001b[1;32m    906\u001b[0m         \u001b[0;32mreturn\u001b[0m \u001b[0mfile\u001b[0m\u001b[0;34m\u001b[0m\u001b[0;34m\u001b[0m\u001b[0m\n",
            "\u001b[0;31mFileNotFoundError\u001b[0m: [Errno 2] No such file or directory: '/content/drive/MyDrive/DATA_2040/Molecular Exploration/Data/BPE_codes.txt'"
          ]
        }
      ]
    },
    {
      "cell_type": "markdown",
      "metadata": {
        "id": "ZNShKvg-D7S6"
      },
      "source": [
        "*The output of the byte-pair encoding is a space-separated string of tokens, each token being a string. The example output below would be the input sequence to a model.*"
      ]
    },
    {
      "cell_type": "code",
      "metadata": {
        "colab": {
          "base_uri": "https://localhost:8080/",
          "height": 165
        },
        "id": "CpVBtiSqAlwH",
        "outputId": "5f89b7dc-e936-4df2-c701-448571ab4e73"
      },
      "source": [
        "bpe_encoding.split(' ')"
      ],
      "execution_count": null,
      "outputs": [
        {
          "output_type": "error",
          "ename": "NameError",
          "evalue": "ignored",
          "traceback": [
            "\u001b[0;31m---------------------------------------------------------------------------\u001b[0m",
            "\u001b[0;31mNameError\u001b[0m                                 Traceback (most recent call last)",
            "\u001b[0;32m<ipython-input-11-c2123b568f11>\u001b[0m in \u001b[0;36m<module>\u001b[0;34m()\u001b[0m\n\u001b[0;32m----> 1\u001b[0;31m \u001b[0mbpe_encoding\u001b[0m\u001b[0;34m.\u001b[0m\u001b[0msplit\u001b[0m\u001b[0;34m(\u001b[0m\u001b[0;34m' '\u001b[0m\u001b[0;34m)\u001b[0m\u001b[0;34m\u001b[0m\u001b[0;34m\u001b[0m\u001b[0m\n\u001b[0m",
            "\u001b[0;31mNameError\u001b[0m: name 'bpe_encoding' is not defined"
          ]
        }
      ]
    },
    {
      "cell_type": "markdown",
      "metadata": {
        "id": "gEkTSS9ZERiB"
      },
      "source": [
        "### Looking at the byte-pair encoding alphabet across the whole (~8000 large) dataset"
      ]
    },
    {
      "cell_type": "code",
      "metadata": {
        "id": "Rz-FSiseDvKs"
      },
      "source": [
        "# initialize the pretrained BP encoder\n",
        "spe = SPE_Tokenizer(spe_vob)\n",
        "\n",
        "# initialize empyt vocabulary set\n",
        "alphabet = set()\n",
        "\n",
        "# traverse through data adding byte-pair tokens to vocabulary\n",
        "for smi in train_srp53.smiles:\n",
        "    bpe_encoding = spe.tokenize(smi)\n",
        "    tkns = set(bpe_encoding.split(' '))\n",
        "    alphabet = alphabet.union(tkns)"
      ],
      "execution_count": null,
      "outputs": []
    },
    {
      "cell_type": "markdown",
      "metadata": {
        "id": "ukslYrUnGrUR"
      },
      "source": [
        "***The alphabet for this training set is 1096 elements -- the whole alphabet used to train this BP encoder is ~3000 ==> what do we do to prepare for getting test samples with tokens unseen in the training set?***"
      ]
    },
    {
      "cell_type": "code",
      "metadata": {
        "colab": {
          "base_uri": "https://localhost:8080/",
          "height": 165
        },
        "id": "yN5Y786fFQaX",
        "outputId": "2670bf43-66e9-48ac-94f9-85fb5f377c43"
      },
      "source": [
        "len(alphabet)"
      ],
      "execution_count": null,
      "outputs": [
        {
          "output_type": "error",
          "ename": "NameError",
          "evalue": "ignored",
          "traceback": [
            "\u001b[0;31m---------------------------------------------------------------------------\u001b[0m",
            "\u001b[0;31mNameError\u001b[0m                                 Traceback (most recent call last)",
            "\u001b[0;32m<ipython-input-14-eede36ebe4ad>\u001b[0m in \u001b[0;36m<module>\u001b[0;34m()\u001b[0m\n\u001b[0;32m----> 1\u001b[0;31m \u001b[0mlen\u001b[0m\u001b[0;34m(\u001b[0m\u001b[0malphabet\u001b[0m\u001b[0;34m)\u001b[0m\u001b[0;34m\u001b[0m\u001b[0;34m\u001b[0m\u001b[0m\n\u001b[0m",
            "\u001b[0;31mNameError\u001b[0m: name 'alphabet' is not defined"
          ]
        }
      ]
    },
    {
      "cell_type": "code",
      "metadata": {
        "id": "QJ4MK6BoHZ0T"
      },
      "source": [
        "from matplotlib import pyplot as plt"
      ],
      "execution_count": null,
      "outputs": []
    },
    {
      "cell_type": "code",
      "metadata": {
        "id": "WHK2J5Stj3kD"
      },
      "source": [
        "def smiles_to_token(row):\n",
        "  return atomwise_tokenizer(row['smiles'])\n",
        "\n",
        "train_srp53['tokens'] = train_srp53.apply(lambda row: smiles_to_token(row), axis=1)"
      ],
      "execution_count": null,
      "outputs": []
    },
    {
      "cell_type": "code",
      "metadata": {
        "colab": {
          "base_uri": "https://localhost:8080/",
          "height": 202
        },
        "id": "9MNUuzZulIdS",
        "outputId": "a81c04b8-cf11-4702-adaa-6803711c3828"
      },
      "source": [
        "train_srp53.head()"
      ],
      "execution_count": null,
      "outputs": [
        {
          "output_type": "execute_result",
          "data": {
            "text/html": [
              "<div>\n",
              "<style scoped>\n",
              "    .dataframe tbody tr th:only-of-type {\n",
              "        vertical-align: middle;\n",
              "    }\n",
              "\n",
              "    .dataframe tbody tr th {\n",
              "        vertical-align: top;\n",
              "    }\n",
              "\n",
              "    .dataframe thead th {\n",
              "        text-align: right;\n",
              "    }\n",
              "</style>\n",
              "<table border=\"1\" class=\"dataframe\">\n",
              "  <thead>\n",
              "    <tr style=\"text-align: right;\">\n",
              "      <th></th>\n",
              "      <th>smiles</th>\n",
              "      <th>id</th>\n",
              "      <th>target</th>\n",
              "      <th>tokens</th>\n",
              "    </tr>\n",
              "  </thead>\n",
              "  <tbody>\n",
              "    <tr>\n",
              "      <th>0</th>\n",
              "      <td>[I-].CCN1C(SC2=CC=CC=C12)=CC=CC3=[N+](CC)C4=CC...</td>\n",
              "      <td>NCGC00166288-01</td>\n",
              "      <td>1</td>\n",
              "      <td>[[I-], ., C, C, N, 1, C, (, S, C, 2, =, C, C, ...</td>\n",
              "    </tr>\n",
              "    <tr>\n",
              "      <th>1</th>\n",
              "      <td>[H][C@@]12[C@H](OC(=O)[C@@](O)(CCCC(C)(C)O)CC(...</td>\n",
              "      <td>NCGC00185752-01</td>\n",
              "      <td>1</td>\n",
              "      <td>[[H], [C@@], 1, 2, [C@H], (, O, C, (, =, O, ),...</td>\n",
              "    </tr>\n",
              "    <tr>\n",
              "      <th>2</th>\n",
              "      <td>Cl.CC(N)COC1=C(C)C=CC=C1C</td>\n",
              "      <td>NCGC00094121-01</td>\n",
              "      <td>0</td>\n",
              "      <td>[Cl, ., C, C, (, N, ), C, O, C, 1, =, C, (, C,...</td>\n",
              "    </tr>\n",
              "    <tr>\n",
              "      <th>3</th>\n",
              "      <td>CO.COC1=C(Cl)C=C(Cl)C(NC2=C(C=NC3=CC(OCCCN4CCN...</td>\n",
              "      <td>NCGC00241107-01</td>\n",
              "      <td>1</td>\n",
              "      <td>[C, O, ., C, O, C, 1, =, C, (, Cl, ), C, =, C,...</td>\n",
              "    </tr>\n",
              "    <tr>\n",
              "      <th>4</th>\n",
              "      <td>[H][C@]12SC(C)(C)[C@@H](N1C(=O)[C@@]2([H])NC(=...</td>\n",
              "      <td>NCGC00094586-01</td>\n",
              "      <td>0</td>\n",
              "      <td>[[H], [C@], 1, 2, S, C, (, C, ), (, C, ), [C@@...</td>\n",
              "    </tr>\n",
              "  </tbody>\n",
              "</table>\n",
              "</div>"
            ],
            "text/plain": [
              "                                              smiles  ...                                             tokens\n",
              "0  [I-].CCN1C(SC2=CC=CC=C12)=CC=CC3=[N+](CC)C4=CC...  ...  [[I-], ., C, C, N, 1, C, (, S, C, 2, =, C, C, ...\n",
              "1  [H][C@@]12[C@H](OC(=O)[C@@](O)(CCCC(C)(C)O)CC(...  ...  [[H], [C@@], 1, 2, [C@H], (, O, C, (, =, O, ),...\n",
              "2                          Cl.CC(N)COC1=C(C)C=CC=C1C  ...  [Cl, ., C, C, (, N, ), C, O, C, 1, =, C, (, C,...\n",
              "3  CO.COC1=C(Cl)C=C(Cl)C(NC2=C(C=NC3=CC(OCCCN4CCN...  ...  [C, O, ., C, O, C, 1, =, C, (, Cl, ), C, =, C,...\n",
              "4  [H][C@]12SC(C)(C)[C@@H](N1C(=O)[C@@]2([H])NC(=...  ...  [[H], [C@], 1, 2, S, C, (, C, ), (, C, ), [C@@...\n",
              "\n",
              "[5 rows x 4 columns]"
            ]
          },
          "metadata": {
            "tags": []
          },
          "execution_count": 17
        }
      ]
    },
    {
      "cell_type": "code",
      "metadata": {
        "id": "jRE7sVsflS4d"
      },
      "source": [
        "vocab = set()\n",
        "for smi in train_srp53.smiles:\n",
        "  tok = atomwise_tokenizer(smi)\n",
        "  tokens = set(tok)\n",
        "  vocab = vocab.union(tokens)\n",
        "\n",
        "def CountFrequency(my_list):\n",
        "  \n",
        "    # Creating an empty dictionary \n",
        "    freq = {}\n",
        "    for item in my_list:\n",
        "        if item in freq:\n",
        "            freq[item] += 1\n",
        "        else:\n",
        "            freq[item] = 1\n",
        "    \n",
        "    return freq\n",
        "\n",
        "token_appears_once = {}\n",
        "token_freq = {}\n",
        "token_prop = {k:[] for k in vocab}\n",
        "smile_lengths = []\n",
        "\n",
        "for i, row in train_srp53.iterrows():\n",
        "\n",
        "  token_dict = CountFrequency(row['tokens'])\n",
        "\n",
        "  smile_lengths.append(len(row['tokens']))\n",
        "\n",
        "  for token, count in token_dict.items():\n",
        "\n",
        "    if token in token_appears_once.keys():\n",
        "      token_appears_once[token] += 1\n",
        "    else:\n",
        "      token_appears_once[token] = 1\n",
        "\n",
        "    if token in token_freq.keys():\n",
        "      token_freq[token] += count\n",
        "    else:\n",
        "      token_freq[token] = count\n",
        "\n",
        "  for tok in token_prop.keys():\n",
        "\n",
        "      token_prop[tok].append(row['tokens'].count(tok) / len(row['tokens']))\n",
        "    "
      ],
      "execution_count": null,
      "outputs": []
    },
    {
      "cell_type": "code",
      "metadata": {
        "colab": {
          "base_uri": "https://localhost:8080/"
        },
        "id": "0-z2En4GrQJa",
        "outputId": "7591a3c0-e501-41fe-c8fd-052aca56f8fe"
      },
      "source": [
        "print(token_appears_once['N'])\n",
        "print(token_freq['N'])\n",
        "print(len(token_prop['N']))\n",
        "print(len(smile_lengths))"
      ],
      "execution_count": null,
      "outputs": [
        {
          "output_type": "stream",
          "text": [
            "4486\n",
            "10031\n",
            "8634\n",
            "8634\n"
          ],
          "name": "stdout"
        }
      ]
    },
    {
      "cell_type": "markdown",
      "metadata": {
        "id": "2K2mWkFIvsDS"
      },
      "source": [
        "## EDA Plots"
      ]
    },
    {
      "cell_type": "code",
      "metadata": {
        "id": "qNvbTIPZrvEA"
      },
      "source": [
        "import plotly.express as px\n",
        "from heapq import nlargest\n",
        "  \n",
        "def dict_to_df(d, N):\n",
        "    \n",
        "  # N largest values in dictionary\n",
        "  # Using nlargest\n",
        "  res = nlargest(N, d, key = d.get)\n",
        "    \n",
        "  df = pd.DataFrame(columns=['Token', 'Count'])\n",
        "  df['Token'] = res\n",
        "\n",
        "  counts = [d[token] for token in res]\n",
        "  df['Count'] = counts\n",
        "\n",
        "  return df"
      ],
      "execution_count": null,
      "outputs": []
    },
    {
      "cell_type": "code",
      "metadata": {
        "colab": {
          "base_uri": "https://localhost:8080/",
          "height": 542
        },
        "id": "e0sxyYUuvyqu",
        "outputId": "774ad1b5-5d12-42fb-f9ec-c4ac0c5cb89d"
      },
      "source": [
        "token_appears_df = dict_to_df(token_appears_once, 30)\n",
        "fig = px.bar(token_appears_df, x='Token', y='Count')\n",
        "fig.show()"
      ],
      "execution_count": null,
      "outputs": [
        {
          "output_type": "display_data",
          "data": {
            "text/html": [
              "<html>\n",
              "<head><meta charset=\"utf-8\" /></head>\n",
              "<body>\n",
              "    <div>\n",
              "            <script src=\"https://cdnjs.cloudflare.com/ajax/libs/mathjax/2.7.5/MathJax.js?config=TeX-AMS-MML_SVG\"></script><script type=\"text/javascript\">if (window.MathJax) {MathJax.Hub.Config({SVG: {font: \"STIX-Web\"}});}</script>\n",
              "                <script type=\"text/javascript\">window.PlotlyConfig = {MathJaxConfig: 'local'};</script>\n",
              "        <script src=\"https://cdn.plot.ly/plotly-latest.min.js\"></script>    \n",
              "            <div id=\"c564bb11-2925-427c-bb05-f3064daf934a\" class=\"plotly-graph-div\" style=\"height:525px; width:100%;\"></div>\n",
              "            <script type=\"text/javascript\">\n",
              "                \n",
              "                    window.PLOTLYENV=window.PLOTLYENV || {};\n",
              "                    \n",
              "                if (document.getElementById(\"c564bb11-2925-427c-bb05-f3064daf934a\")) {\n",
              "                    Plotly.newPlot(\n",
              "                        'c564bb11-2925-427c-bb05-f3064daf934a',\n",
              "                        [{\"alignmentgroup\": \"True\", \"hoverlabel\": {\"namelength\": 0}, \"hovertemplate\": \"Token=%{x}<br>Count=%{y}\", \"legendgroup\": \"\", \"marker\": {\"color\": \"#636efa\"}, \"name\": \"\", \"offsetgroup\": \"\", \"orientation\": \"v\", \"showlegend\": false, \"textposition\": \"auto\", \"type\": \"bar\", \"x\": [\"C\", \"(\", \")\", \"=\", \"O\", \"1\", \"N\", \"2\", \"3\", \"Cl\", \".\", \"S\", \"4\", \"[C@H]\", \"[C@@H]\", \"[O-]\", \"[N+]\", \"[C@]\", \"[H]\", \"[C@@]\", \"F\", \"\\\\\", \"5\", \"[Na+]\", \"#\", \"P\", \"Br\", \"/\", \"6\", \"7\"], \"xaxis\": \"x\", \"y\": [8527, 7790, 7790, 7668, 7124, 6520, 4486, 3784, 2015, 1728, 1498, 1487, 1013, 958, 854, 830, 652, 614, 603, 595, 510, 496, 383, 326, 291, 264, 229, 205, 159, 87], \"yaxis\": \"y\"}],\n",
              "                        {\"barmode\": \"relative\", \"legend\": {\"tracegroupgap\": 0}, \"margin\": {\"t\": 60}, \"template\": {\"data\": {\"bar\": [{\"error_x\": {\"color\": \"#2a3f5f\"}, \"error_y\": {\"color\": \"#2a3f5f\"}, \"marker\": {\"line\": {\"color\": \"#E5ECF6\", \"width\": 0.5}}, \"type\": \"bar\"}], \"barpolar\": [{\"marker\": {\"line\": {\"color\": \"#E5ECF6\", \"width\": 0.5}}, \"type\": \"barpolar\"}], \"carpet\": [{\"aaxis\": {\"endlinecolor\": \"#2a3f5f\", \"gridcolor\": \"white\", \"linecolor\": \"white\", \"minorgridcolor\": \"white\", \"startlinecolor\": \"#2a3f5f\"}, \"baxis\": {\"endlinecolor\": \"#2a3f5f\", \"gridcolor\": \"white\", \"linecolor\": \"white\", \"minorgridcolor\": \"white\", \"startlinecolor\": \"#2a3f5f\"}, \"type\": \"carpet\"}], \"choropleth\": [{\"colorbar\": {\"outlinewidth\": 0, \"ticks\": \"\"}, \"type\": \"choropleth\"}], \"contour\": [{\"colorbar\": {\"outlinewidth\": 0, \"ticks\": \"\"}, \"colorscale\": [[0.0, \"#0d0887\"], [0.1111111111111111, \"#46039f\"], [0.2222222222222222, \"#7201a8\"], [0.3333333333333333, \"#9c179e\"], [0.4444444444444444, \"#bd3786\"], [0.5555555555555556, \"#d8576b\"], [0.6666666666666666, \"#ed7953\"], [0.7777777777777778, \"#fb9f3a\"], [0.8888888888888888, \"#fdca26\"], [1.0, \"#f0f921\"]], \"type\": \"contour\"}], \"contourcarpet\": [{\"colorbar\": {\"outlinewidth\": 0, \"ticks\": \"\"}, \"type\": \"contourcarpet\"}], \"heatmap\": [{\"colorbar\": {\"outlinewidth\": 0, \"ticks\": \"\"}, \"colorscale\": [[0.0, \"#0d0887\"], [0.1111111111111111, \"#46039f\"], [0.2222222222222222, \"#7201a8\"], [0.3333333333333333, \"#9c179e\"], [0.4444444444444444, \"#bd3786\"], [0.5555555555555556, \"#d8576b\"], [0.6666666666666666, \"#ed7953\"], [0.7777777777777778, \"#fb9f3a\"], [0.8888888888888888, \"#fdca26\"], [1.0, \"#f0f921\"]], \"type\": \"heatmap\"}], \"heatmapgl\": [{\"colorbar\": {\"outlinewidth\": 0, \"ticks\": \"\"}, \"colorscale\": [[0.0, \"#0d0887\"], [0.1111111111111111, \"#46039f\"], [0.2222222222222222, \"#7201a8\"], [0.3333333333333333, \"#9c179e\"], [0.4444444444444444, \"#bd3786\"], [0.5555555555555556, \"#d8576b\"], [0.6666666666666666, \"#ed7953\"], [0.7777777777777778, \"#fb9f3a\"], [0.8888888888888888, \"#fdca26\"], [1.0, \"#f0f921\"]], \"type\": \"heatmapgl\"}], \"histogram\": [{\"marker\": {\"colorbar\": {\"outlinewidth\": 0, \"ticks\": \"\"}}, \"type\": \"histogram\"}], \"histogram2d\": [{\"colorbar\": {\"outlinewidth\": 0, \"ticks\": \"\"}, \"colorscale\": [[0.0, \"#0d0887\"], [0.1111111111111111, \"#46039f\"], [0.2222222222222222, \"#7201a8\"], [0.3333333333333333, \"#9c179e\"], [0.4444444444444444, \"#bd3786\"], [0.5555555555555556, \"#d8576b\"], [0.6666666666666666, \"#ed7953\"], [0.7777777777777778, \"#fb9f3a\"], [0.8888888888888888, \"#fdca26\"], [1.0, \"#f0f921\"]], \"type\": \"histogram2d\"}], \"histogram2dcontour\": [{\"colorbar\": {\"outlinewidth\": 0, \"ticks\": \"\"}, \"colorscale\": [[0.0, \"#0d0887\"], [0.1111111111111111, \"#46039f\"], [0.2222222222222222, \"#7201a8\"], [0.3333333333333333, \"#9c179e\"], [0.4444444444444444, \"#bd3786\"], [0.5555555555555556, \"#d8576b\"], [0.6666666666666666, \"#ed7953\"], [0.7777777777777778, \"#fb9f3a\"], [0.8888888888888888, \"#fdca26\"], [1.0, \"#f0f921\"]], \"type\": \"histogram2dcontour\"}], \"mesh3d\": [{\"colorbar\": {\"outlinewidth\": 0, \"ticks\": \"\"}, \"type\": \"mesh3d\"}], \"parcoords\": [{\"line\": {\"colorbar\": {\"outlinewidth\": 0, \"ticks\": \"\"}}, \"type\": \"parcoords\"}], \"pie\": [{\"automargin\": true, \"type\": \"pie\"}], \"scatter\": [{\"marker\": {\"colorbar\": {\"outlinewidth\": 0, \"ticks\": \"\"}}, \"type\": \"scatter\"}], \"scatter3d\": [{\"line\": {\"colorbar\": {\"outlinewidth\": 0, \"ticks\": \"\"}}, \"marker\": {\"colorbar\": {\"outlinewidth\": 0, \"ticks\": \"\"}}, \"type\": \"scatter3d\"}], \"scattercarpet\": [{\"marker\": {\"colorbar\": {\"outlinewidth\": 0, \"ticks\": \"\"}}, \"type\": \"scattercarpet\"}], \"scattergeo\": [{\"marker\": {\"colorbar\": {\"outlinewidth\": 0, \"ticks\": \"\"}}, \"type\": \"scattergeo\"}], \"scattergl\": [{\"marker\": {\"colorbar\": {\"outlinewidth\": 0, \"ticks\": \"\"}}, \"type\": \"scattergl\"}], \"scattermapbox\": [{\"marker\": {\"colorbar\": {\"outlinewidth\": 0, \"ticks\": \"\"}}, \"type\": \"scattermapbox\"}], \"scatterpolar\": [{\"marker\": {\"colorbar\": {\"outlinewidth\": 0, \"ticks\": \"\"}}, \"type\": \"scatterpolar\"}], \"scatterpolargl\": [{\"marker\": {\"colorbar\": {\"outlinewidth\": 0, \"ticks\": \"\"}}, \"type\": \"scatterpolargl\"}], \"scatterternary\": [{\"marker\": {\"colorbar\": {\"outlinewidth\": 0, \"ticks\": \"\"}}, \"type\": \"scatterternary\"}], \"surface\": [{\"colorbar\": {\"outlinewidth\": 0, \"ticks\": \"\"}, \"colorscale\": [[0.0, \"#0d0887\"], [0.1111111111111111, \"#46039f\"], [0.2222222222222222, \"#7201a8\"], [0.3333333333333333, \"#9c179e\"], [0.4444444444444444, \"#bd3786\"], [0.5555555555555556, \"#d8576b\"], [0.6666666666666666, \"#ed7953\"], [0.7777777777777778, \"#fb9f3a\"], [0.8888888888888888, \"#fdca26\"], [1.0, \"#f0f921\"]], \"type\": \"surface\"}], \"table\": [{\"cells\": {\"fill\": {\"color\": \"#EBF0F8\"}, \"line\": {\"color\": \"white\"}}, \"header\": {\"fill\": {\"color\": \"#C8D4E3\"}, \"line\": {\"color\": \"white\"}}, \"type\": \"table\"}]}, \"layout\": {\"annotationdefaults\": {\"arrowcolor\": \"#2a3f5f\", \"arrowhead\": 0, \"arrowwidth\": 1}, \"coloraxis\": {\"colorbar\": {\"outlinewidth\": 0, \"ticks\": \"\"}}, \"colorscale\": {\"diverging\": [[0, \"#8e0152\"], [0.1, \"#c51b7d\"], [0.2, \"#de77ae\"], [0.3, \"#f1b6da\"], [0.4, \"#fde0ef\"], [0.5, \"#f7f7f7\"], [0.6, \"#e6f5d0\"], [0.7, \"#b8e186\"], [0.8, \"#7fbc41\"], [0.9, \"#4d9221\"], [1, \"#276419\"]], \"sequential\": [[0.0, \"#0d0887\"], [0.1111111111111111, \"#46039f\"], [0.2222222222222222, \"#7201a8\"], [0.3333333333333333, \"#9c179e\"], [0.4444444444444444, \"#bd3786\"], [0.5555555555555556, \"#d8576b\"], [0.6666666666666666, \"#ed7953\"], [0.7777777777777778, \"#fb9f3a\"], [0.8888888888888888, \"#fdca26\"], [1.0, \"#f0f921\"]], \"sequentialminus\": [[0.0, \"#0d0887\"], [0.1111111111111111, \"#46039f\"], [0.2222222222222222, \"#7201a8\"], [0.3333333333333333, \"#9c179e\"], [0.4444444444444444, \"#bd3786\"], [0.5555555555555556, \"#d8576b\"], [0.6666666666666666, \"#ed7953\"], [0.7777777777777778, \"#fb9f3a\"], [0.8888888888888888, \"#fdca26\"], [1.0, \"#f0f921\"]]}, \"colorway\": [\"#636efa\", \"#EF553B\", \"#00cc96\", \"#ab63fa\", \"#FFA15A\", \"#19d3f3\", \"#FF6692\", \"#B6E880\", \"#FF97FF\", \"#FECB52\"], \"font\": {\"color\": \"#2a3f5f\"}, \"geo\": {\"bgcolor\": \"white\", \"lakecolor\": \"white\", \"landcolor\": \"#E5ECF6\", \"showlakes\": true, \"showland\": true, \"subunitcolor\": \"white\"}, \"hoverlabel\": {\"align\": \"left\"}, \"hovermode\": \"closest\", \"mapbox\": {\"style\": \"light\"}, \"paper_bgcolor\": \"white\", \"plot_bgcolor\": \"#E5ECF6\", \"polar\": {\"angularaxis\": {\"gridcolor\": \"white\", \"linecolor\": \"white\", \"ticks\": \"\"}, \"bgcolor\": \"#E5ECF6\", \"radialaxis\": {\"gridcolor\": \"white\", \"linecolor\": \"white\", \"ticks\": \"\"}}, \"scene\": {\"xaxis\": {\"backgroundcolor\": \"#E5ECF6\", \"gridcolor\": \"white\", \"gridwidth\": 2, \"linecolor\": \"white\", \"showbackground\": true, \"ticks\": \"\", \"zerolinecolor\": \"white\"}, \"yaxis\": {\"backgroundcolor\": \"#E5ECF6\", \"gridcolor\": \"white\", \"gridwidth\": 2, \"linecolor\": \"white\", \"showbackground\": true, \"ticks\": \"\", \"zerolinecolor\": \"white\"}, \"zaxis\": {\"backgroundcolor\": \"#E5ECF6\", \"gridcolor\": \"white\", \"gridwidth\": 2, \"linecolor\": \"white\", \"showbackground\": true, \"ticks\": \"\", \"zerolinecolor\": \"white\"}}, \"shapedefaults\": {\"line\": {\"color\": \"#2a3f5f\"}}, \"ternary\": {\"aaxis\": {\"gridcolor\": \"white\", \"linecolor\": \"white\", \"ticks\": \"\"}, \"baxis\": {\"gridcolor\": \"white\", \"linecolor\": \"white\", \"ticks\": \"\"}, \"bgcolor\": \"#E5ECF6\", \"caxis\": {\"gridcolor\": \"white\", \"linecolor\": \"white\", \"ticks\": \"\"}}, \"title\": {\"x\": 0.05}, \"xaxis\": {\"automargin\": true, \"gridcolor\": \"white\", \"linecolor\": \"white\", \"ticks\": \"\", \"title\": {\"standoff\": 15}, \"zerolinecolor\": \"white\", \"zerolinewidth\": 2}, \"yaxis\": {\"automargin\": true, \"gridcolor\": \"white\", \"linecolor\": \"white\", \"ticks\": \"\", \"title\": {\"standoff\": 15}, \"zerolinecolor\": \"white\", \"zerolinewidth\": 2}}}, \"xaxis\": {\"anchor\": \"y\", \"domain\": [0.0, 1.0], \"title\": {\"text\": \"Token\"}}, \"yaxis\": {\"anchor\": \"x\", \"domain\": [0.0, 1.0], \"title\": {\"text\": \"Count\"}}},\n",
              "                        {\"responsive\": true}\n",
              "                    ).then(function(){\n",
              "                            \n",
              "var gd = document.getElementById('c564bb11-2925-427c-bb05-f3064daf934a');\n",
              "var x = new MutationObserver(function (mutations, observer) {{\n",
              "        var display = window.getComputedStyle(gd).display;\n",
              "        if (!display || display === 'none') {{\n",
              "            console.log([gd, 'removed!']);\n",
              "            Plotly.purge(gd);\n",
              "            observer.disconnect();\n",
              "        }}\n",
              "}});\n",
              "\n",
              "// Listen for the removal of the full notebook cells\n",
              "var notebookContainer = gd.closest('#notebook-container');\n",
              "if (notebookContainer) {{\n",
              "    x.observe(notebookContainer, {childList: true});\n",
              "}}\n",
              "\n",
              "// Listen for the clearing of the current output cell\n",
              "var outputEl = gd.closest('.output');\n",
              "if (outputEl) {{\n",
              "    x.observe(outputEl, {childList: true});\n",
              "}}\n",
              "\n",
              "                        })\n",
              "                };\n",
              "                \n",
              "            </script>\n",
              "        </div>\n",
              "</body>\n",
              "</html>"
            ]
          },
          "metadata": {
            "tags": []
          }
        }
      ]
    },
    {
      "cell_type": "code",
      "metadata": {
        "colab": {
          "base_uri": "https://localhost:8080/",
          "height": 542
        },
        "id": "AFUhsoQzxKUQ",
        "outputId": "92475533-5464-4835-c726-4c5afa209f87"
      },
      "source": [
        "token_freq_df = dict_to_df(token_freq, 30)\n",
        "fig = px.bar(token_freq_df, x='Token', y='Count', log_y=True)\n",
        "fig.show()"
      ],
      "execution_count": null,
      "outputs": [
        {
          "output_type": "display_data",
          "data": {
            "text/html": [
              "<html>\n",
              "<head><meta charset=\"utf-8\" /></head>\n",
              "<body>\n",
              "    <div>\n",
              "            <script src=\"https://cdnjs.cloudflare.com/ajax/libs/mathjax/2.7.5/MathJax.js?config=TeX-AMS-MML_SVG\"></script><script type=\"text/javascript\">if (window.MathJax) {MathJax.Hub.Config({SVG: {font: \"STIX-Web\"}});}</script>\n",
              "                <script type=\"text/javascript\">window.PlotlyConfig = {MathJaxConfig: 'local'};</script>\n",
              "        <script src=\"https://cdn.plot.ly/plotly-latest.min.js\"></script>    \n",
              "            <div id=\"b921f3fa-270a-4f66-be4a-c11d99ce213b\" class=\"plotly-graph-div\" style=\"height:525px; width:100%;\"></div>\n",
              "            <script type=\"text/javascript\">\n",
              "                \n",
              "                    window.PLOTLYENV=window.PLOTLYENV || {};\n",
              "                    \n",
              "                if (document.getElementById(\"b921f3fa-270a-4f66-be4a-c11d99ce213b\")) {\n",
              "                    Plotly.newPlot(\n",
              "                        'b921f3fa-270a-4f66-be4a-c11d99ce213b',\n",
              "                        [{\"alignmentgroup\": \"True\", \"hoverlabel\": {\"namelength\": 0}, \"hovertemplate\": \"Token=%{x}<br>Count=%{y}\", \"legendgroup\": \"\", \"marker\": {\"color\": \"#636efa\"}, \"name\": \"\", \"offsetgroup\": \"\", \"orientation\": \"v\", \"showlegend\": false, \"textposition\": \"auto\", \"type\": \"bar\", \"x\": [\"C\", \"=\", \"(\", \")\", \"O\", \"1\", \"N\", \"2\", \"3\", \"Cl\", \"[C@H]\", \"4\", \"S\", \"[C@@H]\", \".\", \"[C@@]\", \"F\", \"[H]\", \"[O-]\", \"\\\\\", \"[C@]\", \"5\", \"[N+]\", \"[Na+]\", \"Br\", \"#\", \"6\", \"P\", \"/\", \"7\"], \"xaxis\": \"x\", \"y\": [103012, 37048, 30543, 30543, 23243, 13040, 10031, 7568, 4030, 2875, 2389, 2026, 2006, 1985, 1974, 1556, 1533, 1466, 1116, 1089, 992, 766, 760, 426, 394, 339, 318, 293, 266, 174], \"yaxis\": \"y\"}],\n",
              "                        {\"barmode\": \"relative\", \"legend\": {\"tracegroupgap\": 0}, \"margin\": {\"t\": 60}, \"template\": {\"data\": {\"bar\": [{\"error_x\": {\"color\": \"#2a3f5f\"}, \"error_y\": {\"color\": \"#2a3f5f\"}, \"marker\": {\"line\": {\"color\": \"#E5ECF6\", \"width\": 0.5}}, \"type\": \"bar\"}], \"barpolar\": [{\"marker\": {\"line\": {\"color\": \"#E5ECF6\", \"width\": 0.5}}, \"type\": \"barpolar\"}], \"carpet\": [{\"aaxis\": {\"endlinecolor\": \"#2a3f5f\", \"gridcolor\": \"white\", \"linecolor\": \"white\", \"minorgridcolor\": \"white\", \"startlinecolor\": \"#2a3f5f\"}, \"baxis\": {\"endlinecolor\": \"#2a3f5f\", \"gridcolor\": \"white\", \"linecolor\": \"white\", \"minorgridcolor\": \"white\", \"startlinecolor\": \"#2a3f5f\"}, \"type\": \"carpet\"}], \"choropleth\": [{\"colorbar\": {\"outlinewidth\": 0, \"ticks\": \"\"}, \"type\": \"choropleth\"}], \"contour\": [{\"colorbar\": {\"outlinewidth\": 0, \"ticks\": \"\"}, \"colorscale\": [[0.0, \"#0d0887\"], [0.1111111111111111, \"#46039f\"], [0.2222222222222222, \"#7201a8\"], [0.3333333333333333, \"#9c179e\"], [0.4444444444444444, \"#bd3786\"], [0.5555555555555556, \"#d8576b\"], [0.6666666666666666, \"#ed7953\"], [0.7777777777777778, \"#fb9f3a\"], [0.8888888888888888, \"#fdca26\"], [1.0, \"#f0f921\"]], \"type\": \"contour\"}], \"contourcarpet\": [{\"colorbar\": {\"outlinewidth\": 0, \"ticks\": \"\"}, \"type\": \"contourcarpet\"}], \"heatmap\": [{\"colorbar\": {\"outlinewidth\": 0, \"ticks\": \"\"}, \"colorscale\": [[0.0, \"#0d0887\"], [0.1111111111111111, \"#46039f\"], [0.2222222222222222, \"#7201a8\"], [0.3333333333333333, \"#9c179e\"], [0.4444444444444444, \"#bd3786\"], [0.5555555555555556, \"#d8576b\"], [0.6666666666666666, \"#ed7953\"], [0.7777777777777778, \"#fb9f3a\"], [0.8888888888888888, \"#fdca26\"], [1.0, \"#f0f921\"]], \"type\": \"heatmap\"}], \"heatmapgl\": [{\"colorbar\": {\"outlinewidth\": 0, \"ticks\": \"\"}, \"colorscale\": [[0.0, \"#0d0887\"], [0.1111111111111111, \"#46039f\"], [0.2222222222222222, \"#7201a8\"], [0.3333333333333333, \"#9c179e\"], [0.4444444444444444, \"#bd3786\"], [0.5555555555555556, \"#d8576b\"], [0.6666666666666666, \"#ed7953\"], [0.7777777777777778, \"#fb9f3a\"], [0.8888888888888888, \"#fdca26\"], [1.0, \"#f0f921\"]], \"type\": \"heatmapgl\"}], \"histogram\": [{\"marker\": {\"colorbar\": {\"outlinewidth\": 0, \"ticks\": \"\"}}, \"type\": \"histogram\"}], \"histogram2d\": [{\"colorbar\": {\"outlinewidth\": 0, \"ticks\": \"\"}, \"colorscale\": [[0.0, \"#0d0887\"], [0.1111111111111111, \"#46039f\"], [0.2222222222222222, \"#7201a8\"], [0.3333333333333333, \"#9c179e\"], [0.4444444444444444, \"#bd3786\"], [0.5555555555555556, \"#d8576b\"], [0.6666666666666666, \"#ed7953\"], [0.7777777777777778, \"#fb9f3a\"], [0.8888888888888888, \"#fdca26\"], [1.0, \"#f0f921\"]], \"type\": \"histogram2d\"}], \"histogram2dcontour\": [{\"colorbar\": {\"outlinewidth\": 0, \"ticks\": \"\"}, \"colorscale\": [[0.0, \"#0d0887\"], [0.1111111111111111, \"#46039f\"], [0.2222222222222222, \"#7201a8\"], [0.3333333333333333, \"#9c179e\"], [0.4444444444444444, \"#bd3786\"], [0.5555555555555556, \"#d8576b\"], [0.6666666666666666, \"#ed7953\"], [0.7777777777777778, \"#fb9f3a\"], [0.8888888888888888, \"#fdca26\"], [1.0, \"#f0f921\"]], \"type\": \"histogram2dcontour\"}], \"mesh3d\": [{\"colorbar\": {\"outlinewidth\": 0, \"ticks\": \"\"}, \"type\": \"mesh3d\"}], \"parcoords\": [{\"line\": {\"colorbar\": {\"outlinewidth\": 0, \"ticks\": \"\"}}, \"type\": \"parcoords\"}], \"pie\": [{\"automargin\": true, \"type\": \"pie\"}], \"scatter\": [{\"marker\": {\"colorbar\": {\"outlinewidth\": 0, \"ticks\": \"\"}}, \"type\": \"scatter\"}], \"scatter3d\": [{\"line\": {\"colorbar\": {\"outlinewidth\": 0, \"ticks\": \"\"}}, \"marker\": {\"colorbar\": {\"outlinewidth\": 0, \"ticks\": \"\"}}, \"type\": \"scatter3d\"}], \"scattercarpet\": [{\"marker\": {\"colorbar\": {\"outlinewidth\": 0, \"ticks\": \"\"}}, \"type\": \"scattercarpet\"}], \"scattergeo\": [{\"marker\": {\"colorbar\": {\"outlinewidth\": 0, \"ticks\": \"\"}}, \"type\": \"scattergeo\"}], \"scattergl\": [{\"marker\": {\"colorbar\": {\"outlinewidth\": 0, \"ticks\": \"\"}}, \"type\": \"scattergl\"}], \"scattermapbox\": [{\"marker\": {\"colorbar\": {\"outlinewidth\": 0, \"ticks\": \"\"}}, \"type\": \"scattermapbox\"}], \"scatterpolar\": [{\"marker\": {\"colorbar\": {\"outlinewidth\": 0, \"ticks\": \"\"}}, \"type\": \"scatterpolar\"}], \"scatterpolargl\": [{\"marker\": {\"colorbar\": {\"outlinewidth\": 0, \"ticks\": \"\"}}, \"type\": \"scatterpolargl\"}], \"scatterternary\": [{\"marker\": {\"colorbar\": {\"outlinewidth\": 0, \"ticks\": \"\"}}, \"type\": \"scatterternary\"}], \"surface\": [{\"colorbar\": {\"outlinewidth\": 0, \"ticks\": \"\"}, \"colorscale\": [[0.0, \"#0d0887\"], [0.1111111111111111, \"#46039f\"], [0.2222222222222222, \"#7201a8\"], [0.3333333333333333, \"#9c179e\"], [0.4444444444444444, \"#bd3786\"], [0.5555555555555556, \"#d8576b\"], [0.6666666666666666, \"#ed7953\"], [0.7777777777777778, \"#fb9f3a\"], [0.8888888888888888, \"#fdca26\"], [1.0, \"#f0f921\"]], \"type\": \"surface\"}], \"table\": [{\"cells\": {\"fill\": {\"color\": \"#EBF0F8\"}, \"line\": {\"color\": \"white\"}}, \"header\": {\"fill\": {\"color\": \"#C8D4E3\"}, \"line\": {\"color\": \"white\"}}, \"type\": \"table\"}]}, \"layout\": {\"annotationdefaults\": {\"arrowcolor\": \"#2a3f5f\", \"arrowhead\": 0, \"arrowwidth\": 1}, \"coloraxis\": {\"colorbar\": {\"outlinewidth\": 0, \"ticks\": \"\"}}, \"colorscale\": {\"diverging\": [[0, \"#8e0152\"], [0.1, \"#c51b7d\"], [0.2, \"#de77ae\"], [0.3, \"#f1b6da\"], [0.4, \"#fde0ef\"], [0.5, \"#f7f7f7\"], [0.6, \"#e6f5d0\"], [0.7, \"#b8e186\"], [0.8, \"#7fbc41\"], [0.9, \"#4d9221\"], [1, \"#276419\"]], \"sequential\": [[0.0, \"#0d0887\"], [0.1111111111111111, \"#46039f\"], [0.2222222222222222, \"#7201a8\"], [0.3333333333333333, \"#9c179e\"], [0.4444444444444444, \"#bd3786\"], [0.5555555555555556, \"#d8576b\"], [0.6666666666666666, \"#ed7953\"], [0.7777777777777778, \"#fb9f3a\"], [0.8888888888888888, \"#fdca26\"], [1.0, \"#f0f921\"]], \"sequentialminus\": [[0.0, \"#0d0887\"], [0.1111111111111111, \"#46039f\"], [0.2222222222222222, \"#7201a8\"], [0.3333333333333333, \"#9c179e\"], [0.4444444444444444, \"#bd3786\"], [0.5555555555555556, \"#d8576b\"], [0.6666666666666666, \"#ed7953\"], [0.7777777777777778, \"#fb9f3a\"], [0.8888888888888888, \"#fdca26\"], [1.0, \"#f0f921\"]]}, \"colorway\": [\"#636efa\", \"#EF553B\", \"#00cc96\", \"#ab63fa\", \"#FFA15A\", \"#19d3f3\", \"#FF6692\", \"#B6E880\", \"#FF97FF\", \"#FECB52\"], \"font\": {\"color\": \"#2a3f5f\"}, \"geo\": {\"bgcolor\": \"white\", \"lakecolor\": \"white\", \"landcolor\": \"#E5ECF6\", \"showlakes\": true, \"showland\": true, \"subunitcolor\": \"white\"}, \"hoverlabel\": {\"align\": \"left\"}, \"hovermode\": \"closest\", \"mapbox\": {\"style\": \"light\"}, \"paper_bgcolor\": \"white\", \"plot_bgcolor\": \"#E5ECF6\", \"polar\": {\"angularaxis\": {\"gridcolor\": \"white\", \"linecolor\": \"white\", \"ticks\": \"\"}, \"bgcolor\": \"#E5ECF6\", \"radialaxis\": {\"gridcolor\": \"white\", \"linecolor\": \"white\", \"ticks\": \"\"}}, \"scene\": {\"xaxis\": {\"backgroundcolor\": \"#E5ECF6\", \"gridcolor\": \"white\", \"gridwidth\": 2, \"linecolor\": \"white\", \"showbackground\": true, \"ticks\": \"\", \"zerolinecolor\": \"white\"}, \"yaxis\": {\"backgroundcolor\": \"#E5ECF6\", \"gridcolor\": \"white\", \"gridwidth\": 2, \"linecolor\": \"white\", \"showbackground\": true, \"ticks\": \"\", \"zerolinecolor\": \"white\"}, \"zaxis\": {\"backgroundcolor\": \"#E5ECF6\", \"gridcolor\": \"white\", \"gridwidth\": 2, \"linecolor\": \"white\", \"showbackground\": true, \"ticks\": \"\", \"zerolinecolor\": \"white\"}}, \"shapedefaults\": {\"line\": {\"color\": \"#2a3f5f\"}}, \"ternary\": {\"aaxis\": {\"gridcolor\": \"white\", \"linecolor\": \"white\", \"ticks\": \"\"}, \"baxis\": {\"gridcolor\": \"white\", \"linecolor\": \"white\", \"ticks\": \"\"}, \"bgcolor\": \"#E5ECF6\", \"caxis\": {\"gridcolor\": \"white\", \"linecolor\": \"white\", \"ticks\": \"\"}}, \"title\": {\"x\": 0.05}, \"xaxis\": {\"automargin\": true, \"gridcolor\": \"white\", \"linecolor\": \"white\", \"ticks\": \"\", \"title\": {\"standoff\": 15}, \"zerolinecolor\": \"white\", \"zerolinewidth\": 2}, \"yaxis\": {\"automargin\": true, \"gridcolor\": \"white\", \"linecolor\": \"white\", \"ticks\": \"\", \"title\": {\"standoff\": 15}, \"zerolinecolor\": \"white\", \"zerolinewidth\": 2}}}, \"xaxis\": {\"anchor\": \"y\", \"domain\": [0.0, 1.0], \"title\": {\"text\": \"Token\"}}, \"yaxis\": {\"anchor\": \"x\", \"domain\": [0.0, 1.0], \"title\": {\"text\": \"Count\"}, \"type\": \"log\"}},\n",
              "                        {\"responsive\": true}\n",
              "                    ).then(function(){\n",
              "                            \n",
              "var gd = document.getElementById('b921f3fa-270a-4f66-be4a-c11d99ce213b');\n",
              "var x = new MutationObserver(function (mutations, observer) {{\n",
              "        var display = window.getComputedStyle(gd).display;\n",
              "        if (!display || display === 'none') {{\n",
              "            console.log([gd, 'removed!']);\n",
              "            Plotly.purge(gd);\n",
              "            observer.disconnect();\n",
              "        }}\n",
              "}});\n",
              "\n",
              "// Listen for the removal of the full notebook cells\n",
              "var notebookContainer = gd.closest('#notebook-container');\n",
              "if (notebookContainer) {{\n",
              "    x.observe(notebookContainer, {childList: true});\n",
              "}}\n",
              "\n",
              "// Listen for the clearing of the current output cell\n",
              "var outputEl = gd.closest('.output');\n",
              "if (outputEl) {{\n",
              "    x.observe(outputEl, {childList: true});\n",
              "}}\n",
              "\n",
              "                        })\n",
              "                };\n",
              "                \n",
              "            </script>\n",
              "        </div>\n",
              "</body>\n",
              "</html>"
            ]
          },
          "metadata": {
            "tags": []
          }
        }
      ]
    },
    {
      "cell_type": "code",
      "metadata": {
        "colab": {
          "base_uri": "https://localhost:8080/",
          "height": 542
        },
        "id": "hUg2kuTuzJES",
        "outputId": "7063f9a5-b61e-4c86-9511-9e472681a243"
      },
      "source": [
        "fig = px.histogram(pd.DataFrame(smile_lengths, columns=['Lengths']), x = 'Lengths')\n",
        "fig.show()"
      ],
      "execution_count": null,
      "outputs": [
        {
          "output_type": "display_data",
          "data": {
            "text/html": [
              "<html>\n",
              "<head><meta charset=\"utf-8\" /></head>\n",
              "<body>\n",
              "    <div>\n",
              "            <script src=\"https://cdnjs.cloudflare.com/ajax/libs/mathjax/2.7.5/MathJax.js?config=TeX-AMS-MML_SVG\"></script><script type=\"text/javascript\">if (window.MathJax) {MathJax.Hub.Config({SVG: {font: \"STIX-Web\"}});}</script>\n",
              "                <script type=\"text/javascript\">window.PlotlyConfig = {MathJaxConfig: 'local'};</script>\n",
              "        <script src=\"https://cdn.plot.ly/plotly-latest.min.js\"></script>    \n",
              "            <div id=\"5de0b203-1032-4dfe-a608-12b4b152e55b\" class=\"plotly-graph-div\" style=\"height:525px; width:100%;\"></div>\n",
              "            <script type=\"text/javascript\">\n",
              "                \n",
              "                    window.PLOTLYENV=window.PLOTLYENV || {};\n",
              "                    \n",
              "                if (document.getElementById(\"5de0b203-1032-4dfe-a608-12b4b152e55b\")) {\n",
              "                    Plotly.newPlot(\n",
              "                        '5de0b203-1032-4dfe-a608-12b4b152e55b',\n",
              "                        [{\"alignmentgroup\": \"True\", \"bingroup\": \"x\", \"hoverlabel\": {\"namelength\": 0}, \"hovertemplate\": \"Lengths=%{x}<br>count=%{y}\", \"legendgroup\": \"\", \"marker\": {\"color\": \"#636efa\"}, \"name\": \"\", \"offsetgroup\": \"\", \"orientation\": \"v\", \"showlegend\": false, \"type\": \"histogram\", \"x\": [48, 72, 24, 70, 57, 70, 66, 62, 74, 62, 109, 43, 34, 22, 44, 35, 41, 56, 11, 39, 55, 33, 110, 32, 67, 24, 32, 67, 39, 30, 28, 47, 137, 70, 187, 32, 41, 67, 72, 113, 81, 74, 165, 65, 99, 112, 81, 40, 26, 68, 65, 18, 45, 25, 148, 16, 38, 38, 90, 266, 39, 31, 5, 21, 28, 52, 18, 75, 57, 43, 40, 22, 70, 66, 58, 32, 46, 82, 36, 134, 27, 127, 59, 25, 37, 67, 95, 42, 44, 43, 51, 67, 29, 43, 51, 85, 91, 38, 154, 154, 27, 30, 52, 55, 21, 21, 28, 187, 25, 31, 28, 54, 29, 27, 59, 29, 33, 43, 48, 24, 24, 113, 60, 62, 28, 55, 28, 50, 138, 25, 67, 23, 63, 52, 36, 9, 39, 132, 52, 71, 24, 55, 25, 66, 107, 38, 47, 59, 69, 79, 83, 48, 109, 116, 30, 43, 38, 28, 47, 45, 88, 61, 28, 65, 57, 50, 50, 78, 55, 73, 38, 70, 58, 28, 32, 82, 47, 46, 23, 37, 33, 54, 132, 129, 59, 27, 19, 49, 87, 68, 58, 67, 13, 29, 38, 96, 52, 30, 44, 55, 52, 44, 37, 52, 112, 45, 58, 86, 46, 59, 125, 48, 26, 36, 35, 92, 57, 46, 34, 33, 47, 119, 52, 25, 28, 59, 9, 33, 46, 79, 56, 28, 21, 26, 12, 37, 25, 30, 45, 48, 54, 18, 40, 63, 54, 65, 26, 38, 44, 58, 34, 58, 45, 52, 46, 89, 45, 46, 73, 5, 107, 43, 23, 29, 61, 82, 13, 54, 12, 40, 37, 52, 46, 75, 22, 88, 57, 9, 45, 109, 32, 68, 23, 31, 47, 37, 62, 62, 76, 76, 61, 38, 66, 84, 79, 234, 57, 74, 50, 44, 77, 61, 24, 64, 37, 41, 96, 44, 62, 62, 92, 52, 43, 16, 70, 39, 31, 38, 64, 57, 69, 68, 67, 43, 52, 109, 86, 20, 37, 27, 42, 66, 62, 49, 55, 62, 51, 93, 43, 31, 34, 35, 72, 41, 46, 37, 27, 55, 41, 51, 70, 68, 40, 42, 27, 79, 67, 60, 52, 40, 30, 44, 43, 32, 159, 63, 13, 36, 64, 172, 34, 45, 87, 48, 42, 83, 33, 45, 31, 22, 26, 18, 28, 37, 19, 41, 45, 40, 81, 27, 34, 43, 44, 45, 26, 45, 51, 91, 37, 49, 44, 45, 49, 36, 48, 41, 21, 39, 35, 29, 34, 51, 57, 76, 69, 19, 50, 24, 47, 43, 51, 71, 67, 70, 98, 52, 65, 32, 37, 41, 64, 98, 45, 55, 41, 78, 28, 48, 52, 53, 62, 39, 41, 15, 43, 50, 35, 27, 53, 36, 44, 57, 80, 43, 43, 163, 28, 45, 25, 68, 69, 29, 50, 40, 37, 21, 125, 47, 40, 25, 50, 43, 9, 62, 15, 37, 5, 14, 57, 20, 43, 20, 34, 42, 34, 78, 31, 19, 10, 66, 89, 141, 183, 46, 57, 59, 47, 52, 48, 12, 17, 33, 73, 25, 13, 62, 79, 75, 42, 104, 51, 55, 41, 21, 15, 27, 33, 31, 20, 27, 43, 16, 18, 144, 90, 159, 62, 3, 41, 84, 77, 75, 43, 44, 65, 26, 47, 43, 61, 58, 44, 57, 50, 81, 48, 49, 26, 30, 214, 32, 31, 24, 49, 30, 19, 43, 35, 36, 34, 40, 20, 26, 29, 60, 60, 50, 100, 61, 31, 47, 48, 56, 55, 54, 45, 39, 53, 29, 40, 53, 58, 21, 37, 51, 59, 41, 44, 75, 42, 37, 32, 38, 30, 65, 32, 58, 34, 56, 104, 31, 74, 45, 33, 91, 24, 20, 24, 20, 44, 40, 31, 45, 46, 30, 73, 119, 47, 125, 94, 66, 49, 35, 50, 28, 82, 55, 14, 37, 43, 42, 77, 92, 45, 39, 63, 16, 23, 36, 32, 21, 37, 74, 66, 51, 46, 46, 49, 20, 54, 83, 54, 49, 38, 41, 23, 31, 32, 49, 44, 53, 57, 119, 58, 37, 43, 18, 48, 35, 34, 41, 47, 53, 48, 45, 37, 48, 37, 42, 36, 59, 48, 51, 31, 64, 9, 88, 40, 45, 90, 41, 43, 59, 37, 69, 22, 213, 82, 30, 39, 21, 41, 34, 56, 58, 35, 67, 46, 85, 57, 44, 51, 49, 37, 30, 73, 37, 77, 27, 33, 38, 38, 58, 65, 49, 75, 62, 32, 56, 45, 51, 35, 51, 62, 27, 33, 47, 32, 41, 39, 28, 31, 52, 56, 39, 52, 59, 64, 39, 49, 46, 45, 41, 53, 71, 92, 69, 49, 51, 25, 35, 57, 40, 63, 53, 58, 81, 63, 38, 55, 37, 57, 38, 34, 37, 39, 23, 23, 45, 59, 17, 125, 88, 78, 41, 43, 39, 65, 47, 14, 44, 62, 56, 25, 70, 80, 31, 38, 29, 31, 24, 36, 30, 28, 41, 23, 52, 32, 62, 42, 41, 37, 33, 41, 8, 30, 59, 48, 30, 17, 24, 40, 83, 41, 47, 15, 38, 69, 54, 59, 70, 64, 37, 44, 56, 74, 8, 46, 41, 53, 37, 28, 24, 9, 7, 61, 32, 43, 54, 50, 54, 63, 69, 35, 57, 39, 13, 19, 22, 47, 54, 63, 33, 5, 30, 74, 67, 266, 15, 34, 46, 25, 30, 23, 9, 29, 10, 52, 44, 47, 64, 30, 25, 27, 16, 36, 29, 41, 37, 19, 31, 25, 47, 74, 25, 21, 26, 55, 39, 28, 34, 17, 43, 20, 63, 18, 48, 38, 28, 34, 41, 10, 19, 79, 31, 55, 9, 6, 65, 35, 42, 46, 25, 41, 59, 18, 45, 37, 6, 33, 7, 21, 27, 21, 37, 14, 15, 10, 17, 19, 34, 2, 21, 7, 14, 14, 16, 15, 18, 25, 84, 33, 69, 35, 33, 50, 23, 44, 53, 57, 53, 47, 75, 38, 24, 69, 61, 76, 56, 71, 36, 47, 49, 32, 45, 32, 122, 38, 42, 60, 69, 73, 16, 69, 12, 55, 55, 59, 72, 66, 63, 53, 43, 46, 39, 61, 43, 53, 38, 36, 59, 74, 50, 42, 97, 140, 40, 68, 42, 59, 68, 45, 29, 55, 45, 42, 38, 63, 56, 56, 60, 65, 65, 65, 50, 57, 86, 51, 29, 45, 60, 37, 61, 61, 62, 63, 74, 57, 31, 43, 33, 66, 39, 33, 67, 47, 64, 38, 47, 52, 44, 39, 52, 57, 61, 53, 30, 36, 204, 56, 39, 72, 42, 33, 45, 44, 51, 62, 74, 38, 51, 39, 47, 53, 50, 13, 49, 50, 98, 37, 39, 31, 60, 34, 30, 39, 39, 31, 30, 51, 58, 48, 33, 40, 30, 91, 35, 63, 93, 62, 56, 45, 51, 40, 48, 31, 54, 60, 50, 43, 67, 47, 31, 60, 28, 43, 26, 9, 63, 29, 62, 32, 32, 111, 50, 62, 58, 46, 46, 44, 44, 50, 40, 27, 45, 50, 44, 24, 38, 23, 91, 45, 44, 56, 56, 36, 163, 63, 71, 64, 55, 44, 55, 70, 43, 35, 31, 56, 30, 67, 66, 59, 24, 42, 57, 50, 46, 34, 48, 30, 31, 15, 35, 60, 65, 62, 54, 36, 51, 42, 33, 35, 37, 60, 59, 43, 28, 37, 33, 49, 39, 46, 33, 14, 53, 38, 67, 103, 121, 60, 121, 95, 49, 41, 11, 12, 60, 64, 36, 25, 66, 23, 62, 61, 28, 100, 61, 68, 60, 53, 53, 19, 46, 38, 54, 42, 62, 42, 37, 123, 23, 42, 38, 41, 28, 33, 20, 16, 40, 31, 56, 49, 30, 46, 76, 45, 48, 27, 19, 20, 36, 99, 208, 68, 49, 38, 67, 46, 23, 16, 16, 32, 60, 28, 19, 130, 46, 36, 33, 29, 43, 54, 32, 43, 40, 63, 52, 64, 41, 37, 30, 40, 48, 29, 47, 49, 39, 28, 35, 37, 28, 42, 50, 48, 52, 67, 48, 85, 50, 41, 41, 28, 48, 31, 39, 72, 27, 35, 43, 47, 39, 42, 45, 40, 52, 36, 27, 44, 39, 25, 41, 41, 52, 32, 42, 33, 54, 44, 28, 55, 73, 27, 41, 39, 6, 44, 52, 51, 48, 42, 58, 45, 37, 41, 31, 9, 271, 42, 39, 32, 21, 33, 44, 60, 29, 30, 39, 41, 42, 38, 50, 70, 30, 53, 36, 54, 82, 48, 19, 60, 48, 31, 38, 100, 84, 24, 37, 22, 34, 108, 7, 46, 60, 24, 44, 35, 33, 34, 16, 39, 70, 25, 35, 29, 51, 56, 120, 28, 63, 60, 82, 102, 37, 50, 59, 59, 59, 21, 54, 39, 32, 48, 27, 35, 34, 45, 33, 50, 51, 51, 21, 43, 131, 67, 53, 59, 61, 54, 39, 36, 49, 27, 28, 111, 64, 39, 20, 21, 71, 14, 54, 73, 26, 18, 35, 42, 34, 45, 35, 68, 25, 15, 36, 25, 44, 68, 69, 91, 77, 47, 82, 60, 41, 89, 14, 47, 39, 31, 19, 52, 26, 16, 23, 29, 45, 44, 29, 67, 47, 58, 58, 67, 97, 67, 63, 17, 9, 53, 16, 31, 43, 39, 18, 73, 54, 19, 61, 22, 54, 49, 23, 44, 50, 30, 32, 32, 32, 58, 30, 61, 46, 34, 42, 39, 37, 52, 44, 31, 58, 37, 26, 20, 50, 43, 30, 31, 23, 22, 26, 20, 18, 33, 41, 49, 34, 44, 52, 27, 79, 37, 45, 32, 45, 47, 39, 58, 23, 19, 143, 14, 49, 29, 52, 32, 52, 63, 51, 61, 37, 36, 28, 82, 9, 53, 42, 30, 28, 60, 22, 43, 30, 110, 97, 60, 43, 53, 50, 52, 49, 89, 47, 51, 20, 28, 54, 38, 77, 36, 39, 31, 20, 51, 33, 67, 67, 32, 42, 61, 29, 25, 16, 35, 60, 57, 41, 45, 35, 29, 27, 187, 33, 30, 47, 39, 34, 37, 38, 57, 43, 54, 36, 69, 18, 21, 49, 58, 20, 21, 63, 38, 23, 33, 22, 26, 18, 35, 41, 44, 68, 44, 25, 23, 24, 43, 61, 29, 74, 49, 38, 37, 53, 17, 51, 31, 50, 55, 34, 58, 38, 41, 60, 39, 57, 45, 35, 51, 43, 32, 36, 36, 54, 31, 18, 37, 29, 60, 40, 33, 47, 29, 15, 240, 27, 47, 50, 26, 42, 27, 44, 47, 37, 46, 30, 49, 33, 38, 42, 37, 60, 197, 33, 34, 86, 181, 48, 34, 29, 50, 70, 29, 90, 23, 43, 16, 31, 20, 19, 19, 19, 41, 23, 39, 41, 16, 18, 37, 49, 64, 20, 19, 77, 7, 59, 34, 16, 73, 33, 20, 29, 54, 13, 10, 51, 35, 27, 22, 29, 50, 33, 29, 34, 32, 30, 33, 52, 44, 47, 21, 39, 29, 26, 36, 25, 42, 42, 15, 2, 51, 49, 10, 51, 17, 11, 20, 66, 53, 18, 42, 17, 46, 41, 25, 41, 65, 63, 44, 28, 52, 38, 30, 37, 33, 17, 48, 40, 30, 43, 40, 71, 23, 45, 69, 29, 17, 38, 39, 59, 31, 38, 29, 33, 37, 49, 43, 34, 34, 20, 19, 35, 13, 44, 36, 38, 15, 82, 6, 29, 9, 24, 29, 26, 20, 38, 43, 38, 77, 45, 11, 22, 33, 31, 41, 80, 33, 41, 37, 10, 33, 32, 47, 25, 15, 50, 19, 13, 13, 29, 24, 50, 23, 15, 38, 26, 57, 22, 28, 7, 22, 30, 23, 121, 27, 30, 41, 24, 13, 28, 20, 21, 65, 68, 107, 31, 32, 55, 39, 17, 43, 42, 26, 21, 35, 27, 33, 12, 13, 27, 7, 17, 68, 40, 30, 19, 5, 9, 36, 37, 22, 30, 28, 11, 41, 32, 25, 32, 61, 33, 26, 26, 18, 24, 18, 32, 23, 41, 23, 25, 37, 33, 26, 28, 40, 71, 16, 25, 66, 38, 6, 6, 14, 19, 22, 30, 13, 21, 15, 15, 22, 30, 28, 25, 28, 50, 35, 19, 27, 29, 33, 24, 23, 16, 26, 18, 13, 19, 46, 19, 22, 33, 18, 7, 68, 43, 27, 60, 14, 19, 43, 12, 15, 15, 27, 18, 21, 18, 17, 11, 9, 21, 23, 5, 11, 9, 16, 27, 38, 39, 58, 12, 21, 23, 27, 23, 17, 46, 34, 21, 26, 4, 73, 53, 23, 50, 23, 57, 36, 46, 66, 59, 50, 76, 31, 29, 60, 60, 56, 47, 105, 39, 45, 73, 54, 49, 27, 18, 51, 23, 46, 30, 66, 67, 48, 34, 25, 40, 72, 50, 59, 18, 49, 52, 62, 23, 100, 15, 28, 54, 54, 48, 46, 48, 42, 51, 47, 34, 26, 57, 53, 43, 48, 51, 33, 45, 31, 29, 38, 36, 42, 9, 45, 47, 16, 32, 35, 31, 107, 227, 74, 43, 40, 46, 18, 57, 129, 45, 22, 51, 48, 34, 87, 80, 80, 40, 36, 61, 58, 44, 89, 48, 18, 50, 46, 62, 27, 26, 52, 50, 50, 67, 50, 46, 60, 63, 57, 41, 23, 53, 67, 54, 50, 37, 52, 61, 98, 41, 34, 45, 58, 61, 42, 35, 47, 34, 208, 55, 110, 50, 28, 37, 41, 39, 8, 19, 38, 34, 28, 50, 24, 53, 76, 18, 56, 40, 32, 10, 17, 26, 21, 26, 36, 115, 28, 61, 58, 30, 33, 32, 70, 45, 53, 65, 41, 52, 47, 31, 87, 16, 27, 48, 89, 34, 47, 33, 49, 14, 86, 64, 41, 54, 38, 43, 22, 32, 46, 53, 32, 60, 20, 37, 45, 19, 53, 77, 38, 22, 68, 61, 44, 57, 65, 88, 106, 85, 54, 60, 65, 25, 32, 37, 63, 37, 50, 29, 37, 39, 59, 29, 33, 25, 49, 17, 27, 29, 44, 55, 138, 145, 142, 60, 56, 41, 35, 29, 21, 16, 58, 33, 64, 35, 54, 55, 40, 53, 24, 39, 50, 44, 28, 61, 21, 33, 85, 58, 24, 52, 22, 44, 33, 40, 36, 46, 37, 17, 34, 43, 32, 42, 36, 35, 46, 52, 55, 38, 44, 30, 27, 38, 49, 42, 45, 43, 44, 64, 45, 27, 53, 41, 69, 78, 16, 50, 41, 23, 44, 184, 69, 31, 35, 54, 46, 41, 42, 39, 35, 50, 32, 35, 59, 45, 41, 41, 12, 104, 34, 34, 23, 42, 43, 36, 41, 50, 41, 151, 18, 42, 49, 37, 33, 32, 43, 43, 48, 58, 51, 54, 49, 66, 33, 48, 30, 44, 40, 53, 74, 148, 82, 33, 35, 34, 19, 37, 30, 36, 33, 29, 13, 27, 45, 50, 37, 54, 19, 20, 45, 63, 24, 32, 21, 37, 41, 51, 27, 48, 34, 59, 18, 151, 45, 34, 29, 67, 36, 26, 91, 54, 14, 100, 59, 38, 45, 58, 60, 61, 30, 35, 64, 42, 51, 29, 26, 39, 56, 37, 41, 38, 52, 43, 48, 26, 17, 39, 20, 44, 27, 30, 48, 31, 51, 23, 28, 26, 43, 74, 47, 49, 40, 24, 120, 25, 41, 67, 94, 161, 55, 51, 30, 43, 52, 38, 134, 18, 35, 40, 36, 40, 22, 42, 49, 21, 41, 26, 28, 49, 25, 42, 32, 44, 28, 30, 21, 17, 18, 21, 21, 47, 45, 33, 57, 61, 30, 32, 72, 46, 29, 25, 51, 30, 78, 93, 87, 13, 82, 35, 42, 52, 40, 48, 48, 53, 48, 17, 77, 99, 78, 111, 43, 45, 114, 22, 22, 20, 19, 40, 35, 75, 91, 41, 22, 42, 51, 62, 40, 11, 40, 102, 46, 12, 48, 24, 31, 164, 21, 91, 27, 29, 29, 40, 73, 24, 35, 61, 55, 35, 57, 60, 58, 60, 10, 11, 79, 15, 15, 46, 25, 33, 38, 24, 58, 45, 68, 58, 21, 60, 71, 54, 70, 46, 119, 31, 33, 39, 62, 32, 36, 42, 42, 23, 53, 42, 53, 39, 38, 38, 48, 45, 42, 22, 47, 81, 21, 58, 58, 50, 29, 15, 22, 97, 67, 40, 48, 49, 56, 19, 39, 47, 15, 9, 14, 30, 42, 33, 29, 28, 16, 42, 54, 30, 30, 43, 27, 28, 53, 37, 97, 45, 47, 30, 169, 178, 97, 106, 87, 78, 168, 8, 60, 60, 27, 39, 69, 47, 37, 77, 60, 39, 34, 23, 18, 51, 32, 34, 45, 20, 24, 79, 55, 50, 107, 59, 54, 11, 48, 40, 33, 35, 33, 15, 38, 32, 33, 10, 31, 47, 81, 52, 58, 33, 33, 18, 40, 18, 22, 32, 36, 36, 30, 61, 34, 30, 50, 35, 40, 15, 26, 43, 37, 59, 21, 66, 15, 37, 36, 42, 31, 25, 18, 36, 28, 50, 20, 102, 44, 29, 21, 32, 21, 29, 55, 15, 15, 14, 22, 22, 10, 85, 11, 17, 29, 23, 19, 17, 44, 21, 31, 27, 38, 39, 45, 29, 32, 18, 39, 39, 39, 44, 42, 14, 20, 22, 42, 29, 32, 24, 56, 42, 62, 37, 39, 31, 42, 45, 32, 33, 34, 12, 31, 49, 22, 61, 61, 29, 52, 34, 55, 53, 44, 43, 55, 22, 39, 40, 34, 34, 34, 31, 47, 25, 33, 31, 33, 52, 47, 22, 37, 51, 41, 41, 16, 56, 34, 42, 23, 40, 61, 52, 71, 31, 66, 53, 17, 22, 72, 79, 79, 43, 31, 70, 43, 27, 54, 65, 23, 23, 50, 22, 22, 37, 34, 34, 47, 28, 35, 28, 81, 36, 208, 73, 48, 53, 53, 67, 31, 35, 53, 57, 54, 26, 51, 42, 52, 37, 27, 56, 26, 26, 22, 27, 24, 42, 34, 47, 33, 44, 46, 31, 24, 11, 22, 22, 36, 24, 25, 52, 30, 26, 40, 35, 28, 28, 31, 22, 30, 30, 43, 42, 35, 36, 22, 40, 24, 75, 15, 40, 25, 25, 21, 108, 104, 98, 112, 76, 30, 17, 35, 36, 80, 48, 28, 26, 26, 20, 26, 84, 50, 25, 29, 23, 57, 24, 36, 40, 40, 37, 37, 31, 28, 18, 22, 88, 61, 27, 125, 125, 42, 38, 21, 26, 19, 53, 82, 81, 50, 40, 34, 26, 37, 37, 50, 37, 51, 33, 58, 58, 58, 44, 37, 18, 22, 59, 45, 30, 29, 32, 50, 53, 33, 52, 45, 43, 51, 48, 59, 89, 31, 29, 4, 29, 54, 61, 25, 23, 42, 100, 148, 93, 44, 17, 17, 33, 64, 134, 131, 179, 121, 134, 36, 19, 9, 30, 27, 21, 23, 18, 18, 28, 28, 28, 32, 48, 48, 26, 34, 77, 30, 40, 34, 30, 35, 44, 36, 24, 37, 12, 33, 60, 50, 58, 58, 62, 74, 28, 37, 23, 37, 38, 33, 26, 21, 47, 39, 49, 69, 19, 18, 29, 10, 17, 4, 51, 49, 45, 49, 49, 38, 37, 45, 44, 44, 55, 48, 52, 28, 42, 30, 13, 81, 46, 53, 22, 23, 53, 32, 43, 24, 27, 28, 45, 45, 21, 38, 112, 131, 48, 71, 21, 20, 20, 40, 42, 16, 33, 30, 20, 20, 16, 39, 39, 26, 20, 74, 39, 39, 20, 28, 39, 30, 54, 19, 24, 43, 27, 27, 34, 34, 37, 47, 37, 41, 25, 21, 24, 44, 31, 18, 85, 24, 26, 55, 23, 48, 28, 29, 25, 39, 25, 24, 24, 24, 30, 39, 42, 31, 29, 41, 68, 32, 38, 43, 35, 36, 27, 24, 25, 38, 60, 79, 18, 44, 37, 91, 22, 65, 92, 47, 54, 60, 56, 17, 121, 66, 63, 87, 82, 82, 139, 139, 67, 34, 44, 43, 66, 42, 33, 11, 53, 90, 55, 60, 190, 190, 40, 56, 82, 43, 95, 13, 17, 58, 54, 45, 39, 45, 39, 31, 132, 74, 26, 47, 14, 57, 60, 27, 17, 13, 19, 23, 67, 40, 16, 129, 56, 48, 55, 51, 69, 39, 77, 51, 61, 61, 50, 28, 46, 43, 112, 34, 29, 43, 23, 41, 39, 19, 19, 40, 40, 45, 50, 33, 35, 20, 11, 16, 35, 35, 38, 37, 36, 33, 24, 31, 26, 29, 23, 16, 16, 24, 30, 30, 61, 37, 32, 19, 29, 44, 42, 29, 26, 38, 16, 46, 40, 40, 29, 37, 57, 53, 57, 51, 14, 42, 55, 19, 43, 31, 35, 39, 49, 38, 39, 35, 59, 42, 38, 39, 35, 33, 47, 46, 57, 41, 42, 46, 42, 65, 84, 61, 107, 69, 183, 165, 43, 35, 53, 26, 37, 36, 29, 37, 28, 48, 37, 6, 47, 45, 74, 19, 23, 23, 37, 20, 23, 20, 20, 20, 26, 31, 18, 42, 43, 46, 19, 53, 28, 54, 43, 21, 24, 21, 29, 29, 23, 39, 26, 47, 35, 24, 31, 22, 48, 89, 75, 26, 31, 66, 21, 45, 54, 39, 34, 85, 30, 39, 18, 21, 22, 21, 33, 15, 12, 22, 22, 21, 16, 113, 26, 37, 32, 64, 42, 50, 38, 34, 12, 36, 120, 20, 24, 21, 16, 19, 13, 13, 14, 22, 37, 94, 15, 15, 10, 19, 7, 49, 29, 34, 23, 21, 25, 20, 11, 63, 70, 33, 30, 38, 12, 27, 33, 42, 35, 39, 23, 34, 30, 35, 77, 47, 40, 35, 33, 33, 30, 41, 21, 50, 35, 82, 35, 51, 28, 15, 29, 36, 38, 14, 14, 30, 48, 25, 45, 41, 48, 43, 39, 28, 26, 27, 44, 60, 20, 39, 73, 88, 31, 16, 19, 38, 47, 35, 46, 32, 83, 22, 34, 38, 30, 14, 16, 49, 15, 31, 9, 25, 25, 37, 76, 17, 25, 37, 39, 48, 37, 28, 28, 43, 55, 45, 24, 50, 26, 73, 29, 23, 18, 19, 23, 99, 75, 118, 71, 55, 50, 16, 19, 38, 55, 9, 19, 28, 59, 63, 53, 6, 50, 16, 11, 55, 61, 63, 49, 32, 48, 42, 9, 22, 17, 17, 30, 23, 44, 44, 34, 35, 23, 22, 59, 29, 40, 45, 29, 31, 54, 30, 50, 32, 64, 16, 32, 31, 29, 74, 33, 29, 197, 63, 34, 30, 26, 17, 47, 49, 29, 24, 22, 48, 50, 78, 64, 74, 23, 23, 29, 77, 28, 20, 42, 35, 29, 14, 11, 26, 20, 27, 28, 33, 45, 29, 39, 35, 27, 40, 57, 38, 46, 46, 39, 64, 18, 23, 18, 37, 26, 24, 13, 52, 30, 15, 44, 22, 52, 24, 22, 64, 28, 27, 19, 19, 26, 28, 29, 30, 42, 38, 31, 51, 50, 24, 58, 63, 48, 15, 26, 16, 28, 23, 18, 26, 21, 94, 47, 28, 43, 26, 25, 25, 20, 33, 41, 54, 16, 27, 37, 37, 24, 26, 14, 18, 37, 22, 33, 51, 13, 27, 34, 49, 22, 18, 22, 42, 22, 43, 34, 42, 57, 42, 31, 22, 26, 42, 9, 12, 13, 41, 50, 25, 15, 21, 27, 25, 38, 16, 52, 19, 40, 36, 22, 60, 35, 29, 16, 18, 76, 32, 21, 32, 32, 17, 15, 17, 25, 42, 12, 8, 12, 13, 12, 35, 8, 23, 17, 38, 43, 15, 35, 36, 44, 50, 4, 22, 31, 38, 38, 37, 26, 18, 28, 32, 25, 30, 28, 64, 33, 39, 35, 21, 40, 8, 50, 21, 30, 19, 103, 42, 37, 22, 8, 19, 29, 32, 14, 31, 28, 18, 29, 19, 20, 25, 13, 10, 28, 30, 33, 20, 24, 20, 15, 43, 37, 46, 28, 23, 21, 37, 32, 8, 11, 18, 13, 46, 34, 45, 93, 59, 21, 15, 10, 41, 18, 16, 9, 17, 25, 34, 25, 20, 175, 26, 24, 18, 24, 19, 26, 21, 24, 8, 36, 30, 17, 24, 26, 19, 33, 17, 27, 14, 15, 40, 16, 13, 9, 22, 17, 7, 22, 28, 25, 27, 33, 27, 45, 22, 25, 21, 26, 23, 24, 21, 29, 28, 34, 23, 25, 28, 47, 52, 22, 11, 13, 18, 35, 41, 26, 61, 27, 20, 26, 44, 50, 37, 26, 16, 14, 14, 30, 30, 23, 24, 22, 60, 10, 9, 36, 39, 39, 23, 18, 17, 14, 56, 12, 11, 38, 17, 14, 20, 52, 67, 16, 20, 23, 28, 35, 43, 25, 25, 19, 5, 33, 25, 11, 27, 16, 39, 43, 32, 9, 21, 20, 37, 103, 23, 16, 13, 32, 36, 27, 14, 13, 18, 33, 13, 17, 16, 11, 29, 71, 37, 26, 43, 11, 29, 29, 58, 19, 33, 18, 3, 8, 18, 30, 12, 27, 9, 10, 24, 27, 25, 11, 25, 8, 8, 8, 14, 30, 37, 41, 11, 15, 23, 19, 23, 21, 37, 10, 51, 16, 19, 9, 6, 29, 25, 14, 13, 7, 11, 16, 32, 10, 28, 47, 30, 18, 18, 24, 28, 15, 20, 21, 20, 19, 48, 25, 8, 21, 16, 30, 13, 13, 20, 10, 16, 15, 43, 23, 11, 19, 40, 26, 22, 27, 14, 30, 11, 6, 29, 11, 25, 31, 28, 18, 28, 8, 7, 12, 14, 6, 15, 19, 13, 9, 25, 57, 28, 24, 21, 21, 19, 28, 26, 30, 26, 21, 28, 14, 17, 10, 27, 17, 27, 18, 18, 27, 16, 18, 29, 13, 29, 23, 20, 29, 22, 20, 23, 24, 27, 25, 21, 36, 30, 27, 39, 21, 18, 33, 24, 15, 21, 23, 29, 10, 29, 25, 22, 34, 34, 39, 32, 29, 22, 23, 40, 22, 28, 13, 39, 18, 29, 42, 45, 13, 20, 16, 12, 31, 28, 24, 18, 23, 31, 20, 11, 52, 31, 43, 23, 35, 50, 34, 32, 32, 9, 37, 18, 23, 76, 47, 39, 20, 41, 33, 40, 32, 29, 28, 25, 47, 50, 22, 73, 47, 44, 35, 27, 18, 37, 24, 18, 71, 38, 49, 31, 59, 28, 43, 30, 22, 40, 38, 36, 32, 31, 47, 10, 37, 26, 24, 21, 16, 29, 60, 60, 57, 36, 73, 122, 48, 26, 14, 12, 34, 61, 34, 22, 64, 18, 18, 9, 44, 54, 27, 41, 34, 103, 35, 32, 30, 17, 35, 19, 50, 8, 32, 13, 74, 25, 27, 41, 60, 15, 31, 33, 37, 38, 36, 19, 9, 26, 45, 8, 21, 31, 56, 65, 67, 53, 54, 51, 21, 23, 101, 33, 10, 41, 35, 33, 27, 45, 33, 15, 18, 34, 12, 34, 25, 30, 50, 46, 41, 18, 21, 27, 62, 15, 38, 5, 49, 79, 34, 17, 18, 15, 30, 3, 29, 34, 21, 21, 52, 25, 24, 45, 41, 44, 33, 86, 24, 69, 42, 51, 52, 26, 28, 19, 22, 23, 42, 18, 37, 31, 44, 29, 39, 29, 31, 29, 67, 28, 45, 43, 39, 30, 28, 44, 9, 20, 19, 50, 29, 26, 35, 41, 44, 58, 60, 65, 36, 31, 20, 54, 25, 5, 25, 20, 33, 67, 56, 35, 29, 26, 38, 40, 29, 62, 17, 49, 29, 9, 9, 37, 30, 8, 8, 53, 41, 15, 30, 60, 11, 54, 38, 12, 40, 47, 32, 46, 31, 18, 59, 14, 16, 29, 26, 50, 67, 21, 45, 15, 12, 52, 31, 20, 27, 45, 36, 46, 38, 79, 31, 28, 22, 58, 30, 19, 40, 16, 41, 23, 32, 54, 19, 30, 45, 21, 30, 38, 48, 28, 42, 36, 26, 16, 27, 28, 22, 18, 20, 29, 11, 20, 34, 36, 29, 18, 48, 15, 19, 29, 31, 42, 35, 41, 24, 25, 21, 16, 38, 33, 33, 46, 32, 49, 50, 33, 50, 69, 39, 42, 26, 21, 37, 18, 21, 15, 29, 36, 50, 38, 29, 17, 15, 13, 66, 6, 15, 27, 13, 29, 39, 26, 18, 25, 10, 8, 28, 29, 29, 39, 51, 35, 12, 20, 9, 24, 24, 24, 41, 26, 16, 25, 9, 18, 39, 33, 12, 12, 60, 12, 35, 29, 42, 35, 23, 15, 20, 24, 24, 21, 28, 40, 9, 39, 14, 48, 24, 15, 31, 21, 38, 38, 20, 30, 18, 52, 23, 15, 15, 15, 12, 18, 25, 23, 18, 10, 12, 11, 16, 14, 9, 37, 21, 28, 22, 19, 18, 17, 45, 32, 28, 4, 61, 22, 22, 9, 29, 11, 23, 25, 21, 32, 24, 36, 38, 37, 50, 35, 121, 41, 27, 22, 18, 26, 23, 21, 37, 19, 35, 29, 29, 33, 49, 16, 16, 47, 27, 45, 29, 23, 23, 34, 18, 15, 15, 28, 17, 21, 69, 112, 17, 23, 22, 21, 26, 21, 26, 35, 19, 22, 27, 24, 24, 27, 47, 26, 27, 58, 31, 33, 65, 49, 28, 34, 35, 31, 23, 21, 43, 48, 40, 49, 49, 30, 50, 16, 54, 18, 33, 24, 24, 18, 21, 39, 32, 26, 43, 24, 46, 33, 21, 30, 49, 26, 19, 17, 22, 17, 54, 29, 31, 25, 18, 58, 24, 26, 11, 11, 23, 11, 11, 11, 11, 13, 10, 52, 15, 19, 24, 14, 15, 18, 40, 15, 20, 21, 54, 17, 7, 79, 86, 11, 20, 68, 10, 14, 23, 29, 28, 27, 59, 63, 22, 65, 40, 13, 39, 44, 23, 17, 8, 14, 17, 25, 55, 20, 20, 37, 18, 3, 11, 29, 27, 43, 23, 25, 18, 50, 17, 23, 18, 23, 17, 22, 13, 12, 5, 18, 26, 21, 17, 31, 14, 9, 31, 31, 51, 29, 39, 17, 17, 17, 26, 10, 43, 30, 26, 33, 24, 19, 22, 29, 18, 36, 24, 10, 17, 11, 20, 18, 11, 13, 42, 27, 19, 41, 20, 24, 6, 9, 12, 9, 11, 7, 32, 32, 18, 39, 18, 15, 7, 22, 47, 16, 21, 35, 23, 13, 16, 20, 30, 19, 39, 21, 23, 20, 21, 17, 15, 12, 12, 12, 20, 21, 18, 60, 25, 35, 36, 39, 27, 12, 21, 18, 9, 33, 15, 40, 10, 23, 11, 13, 12, 14, 15, 19, 7, 5, 27, 26, 14, 44, 11, 36, 15, 22, 22, 18, 10, 11, 42, 22, 51, 23, 16, 6, 26, 30, 11, 33, 34, 29, 40, 33, 14, 18, 23, 49, 30, 6, 3, 23, 14, 11, 16, 14, 25, 22, 25, 26, 26, 19, 28, 28, 30, 22, 19, 19, 27, 32, 31, 38, 37, 38, 25, 21, 15, 30, 36, 34, 64, 33, 33, 47, 63, 5, 7, 19, 98, 11, 20, 12, 8, 15, 8, 27, 76, 13, 19, 21, 27, 24, 19, 20, 22, 21, 32, 23, 49, 37, 12, 4, 14, 62, 70, 22, 12, 88, 6, 45, 11, 28, 17, 14, 24, 15, 17, 14, 9, 12, 7, 24, 25, 18, 15, 18, 29, 19, 32, 12, 13, 23, 34, 6, 45, 24, 23, 23, 23, 21, 28, 25, 22, 26, 25, 20, 37, 32, 35, 25, 20, 16, 62, 27, 29, 28, 24, 17, 17, 14, 19, 30, 28, 64, 37, 32, 28, 34, 47, 18, 18, 63, 30, 17, 44, 13, 10, 54, 9, 29, 49, 43, 28, 17, 45, 35, 24, 37, 20, 9, 17, 9, 17, 38, 26, 26, 31, 18, 34, 32, 22, 25, 29, 26, 17, 43, 37, 52, 29, 12, 15, 7, 15, 26, 11, 66, 15, 39, 21, 31, 37, 41, 52, 22, 20, 19, 22, 36, 19, 19, 26, 20, 34, 17, 16, 29, 16, 34, 45, 17, 9, 14, 10, 20, 13, 12, 8, 34, 49, 33, 41, 24, 9, 12, 12, 3, 17, 14, 15, 17, 86, 20, 18, 22, 16, 19, 7, 7, 11, 17, 47, 18, 18, 19, 3, 26, 9, 14, 24, 24, 55, 38, 39, 24, 17, 11, 72, 15, 66, 10, 19, 67, 10, 57, 48, 52, 23, 13, 10, 6, 42, 33, 27, 19, 24, 51, 23, 56, 46, 31, 21, 24, 26, 9, 9, 32, 37, 16, 44, 44, 39, 31, 33, 25, 8, 9, 15, 59, 13, 8, 8, 14, 9, 11, 9, 18, 53, 8, 16, 13, 7, 4, 14, 15, 6, 12, 27, 8, 8, 9, 32, 15, 48, 29, 49, 27, 25, 25, 51, 17, 22, 25, 7, 12, 19, 25, 17, 24, 27, 28, 8, 6, 6, 16, 24, 25, 30, 10, 10, 10, 13, 21, 12, 11, 11, 12, 9, 15, 11, 8, 5, 15, 5, 3, 9, 24, 16, 14, 19, 19, 21, 17, 11, 12, 11, 8, 9, 7, 8, 18, 9, 20, 20, 18, 18, 25, 22, 13, 20, 17, 30, 14, 37, 22, 9, 14, 11, 24, 19, 16, 30, 27, 14, 14, 22, 31, 10, 20, 21, 12, 15, 26, 11, 14, 23, 11, 10, 14, 7, 11, 11, 16, 23, 17, 17, 22, 67, 11, 17, 19, 50, 15, 19, 36, 23, 10, 17, 10, 16, 28, 33, 21, 12, 20, 12, 16, 10, 10, 12, 18, 37, 7, 8, 8, 21, 21, 8, 9, 23, 12, 8, 8, 32, 10, 13, 22, 23, 21, 18, 22, 27, 30, 54, 22, 18, 18, 34, 23, 19, 15, 18, 35, 18, 13, 19, 35, 28, 23, 17, 34, 21, 22, 18, 25, 18, 15, 16, 25, 20, 22, 20, 16, 24, 17, 15, 13, 24, 8, 12, 25, 10, 55, 17, 21, 22, 19, 19, 17, 17, 25, 20, 54, 51, 36, 15, 11, 21, 18, 9, 16, 12, 26, 50, 29, 16, 16, 16, 17, 18, 16, 15, 14, 10, 28, 11, 50, 14, 10, 8, 8, 7, 9, 10, 9, 10, 17, 19, 19, 13, 13, 9, 8, 7, 7, 7, 5, 6, 14, 28, 28, 35, 36, 11, 11, 8, 36, 17, 18, 15, 5, 12, 7, 9, 18, 10, 21, 11, 11, 17, 5, 17, 16, 24, 17, 31, 23, 17, 22, 17, 17, 19, 35, 27, 12, 30, 49, 12, 38, 19, 15, 15, 14, 11, 34, 31, 42, 10, 8, 7, 22, 9, 10, 6, 9, 35, 21, 28, 25, 23, 18, 19, 19, 28, 35, 16, 18, 24, 25, 18, 18, 52, 18, 18, 33, 28, 28, 20, 23, 15, 16, 16, 15, 28, 30, 25, 22, 42, 36, 36, 58, 50, 37, 30, 32, 10, 20, 8, 8, 8, 12, 11, 34, 21, 21, 17, 13, 16, 8, 22, 26, 16, 93, 37, 41, 15, 30, 24, 24, 20, 20, 20, 25, 21, 21, 18, 19, 18, 17, 20, 24, 17, 22, 23, 29, 29, 23, 9, 15, 32, 9, 34, 16, 30, 22, 24, 22, 43, 25, 10, 18, 25, 15, 23, 16, 8, 19, 25, 11, 17, 15, 10, 14, 11, 24, 15, 74, 17, 26, 7, 7, 22, 47, 28, 28, 24, 27, 21, 37, 25, 18, 16, 37, 30, 19, 9, 21, 24, 22, 10, 10, 72, 8, 15, 10, 7, 18, 5, 26, 25, 23, 20, 22, 21, 21, 20, 16, 51, 39, 13, 11, 29, 23, 25, 25, 30, 25, 21, 25, 23, 25, 22, 18, 20, 19, 28, 17, 16, 28, 21, 18, 27, 21, 38, 21, 25, 26, 17, 17, 20, 38, 27, 27, 28, 54, 23, 21, 14, 17, 18, 36, 28, 16, 16, 44, 21, 31, 22, 40, 24, 17, 25, 25, 29, 65, 27, 61, 19, 18, 17, 17, 42, 89, 22, 17, 28, 55, 18, 18, 12, 28, 17, 33, 31, 29, 26, 39, 35, 60, 26, 17, 18, 51, 8, 8, 24, 30, 29, 26, 46, 23, 36, 19, 20, 45, 33, 33, 41, 31, 31, 32, 43, 33, 16, 30, 20, 22, 16, 15, 15, 22, 18, 11, 14, 14, 9, 16, 10, 11, 35, 23, 17, 22, 20, 21, 31, 18, 9, 12, 25, 17, 47, 31, 27, 41, 25, 26, 42, 42, 59, 20, 29, 35, 27, 43, 29, 24, 18, 17, 15, 16, 21, 17, 28, 28, 16, 11, 22, 17, 10, 10, 13, 33, 19, 30, 37, 33, 59, 41, 49, 42, 31, 38, 135, 15, 30, 28, 21, 13, 33, 23, 20, 20, 25, 18, 20, 20, 26, 18, 24, 18, 31, 16, 37, 22, 43, 28, 36, 15, 20, 50, 19, 54, 91, 15, 24, 8, 9, 20, 16, 74, 39, 25, 14, 20, 13, 11, 14, 14, 13, 5, 15, 15, 9, 12, 17, 34, 21, 32, 28, 19, 18, 41, 35, 20, 11, 35, 22, 8, 13, 11, 35, 32, 17, 38, 39, 43, 56, 18, 45, 27, 15, 53, 16, 38, 10, 12, 40, 23, 41, 40, 79, 34, 56, 37, 11, 33, 32, 32, 32, 27, 22, 57, 34, 22, 28, 22, 50, 37, 41, 39, 22, 22, 11, 56, 15, 16, 17, 31, 39, 39, 26, 50, 28, 40, 25, 16, 19, 37, 24, 16, 25, 40, 18, 17, 41, 48, 38, 21, 33, 34, 42, 52, 52, 58, 23, 45, 6, 55, 23, 42, 38, 20, 26, 17, 14, 19, 7, 48, 11, 35, 23, 39, 36, 38, 28, 30, 32, 23, 26, 14, 25, 14, 17, 17, 17, 6, 9, 37, 33, 32, 41, 104, 34, 30, 30, 22, 36, 30, 24, 27, 50, 62, 43, 26, 11, 18, 15, 28, 29, 35, 47, 34, 20, 51, 34, 33, 18, 37, 73, 29, 57, 26, 17, 21, 30, 48, 52, 40, 41, 20, 26, 27, 44, 17, 30, 20, 44, 26, 22, 25, 36, 7, 42, 20, 45, 17, 54, 18, 79, 14, 35, 22, 41, 21, 46, 47, 41, 38, 26, 11, 13, 4, 28, 14, 35, 27, 84, 32, 22, 32, 40, 27, 30, 30, 8, 8, 8, 6, 14, 24, 23, 23, 26, 17, 17, 43, 30, 35, 67, 29, 17, 16, 26, 18, 16, 18, 8, 33, 21, 25, 51, 66, 47, 47, 43, 37, 23, 25, 25, 18, 24, 25, 22, 20, 28, 19, 13, 15, 18, 31, 37, 26, 33, 63, 63, 45, 35, 17, 14, 16, 10, 22, 10, 19, 9, 44, 47, 49, 35, 27, 18, 33, 32, 45, 10, 29, 6, 25, 13, 22, 27, 30, 21, 16, 26, 38, 15, 9, 10, 15, 25, 37, 21, 23, 25, 27, 23, 33, 12, 28, 23, 85, 27, 25, 2, 17, 17, 10, 4, 56, 29, 13, 8, 15, 43, 24, 16, 12, 23, 20, 23, 22, 18, 20, 42, 27, 9, 25, 20, 37, 21, 45, 18, 34, 24, 14, 30, 24, 48, 18, 46, 22, 55, 51, 11, 18, 31, 20, 17, 36, 22, 42, 36, 69, 39, 41, 57, 43, 21, 29, 22, 22, 19, 39, 48, 43, 37, 47, 80, 34, 33, 6, 43, 51, 29, 41, 22, 24, 41, 12, 34, 20, 20, 57, 12, 11, 19, 13, 36, 7, 14, 33, 26, 17, 3, 13, 21, 14, 20, 18, 5, 14, 15, 7, 80, 26, 17, 57, 36, 49, 31, 16, 22, 19, 10, 27, 35, 27, 54, 28, 30, 25, 44, 28, 41, 26, 20, 24, 15, 128, 24, 44, 29, 25, 12, 23, 32, 48, 9, 26, 20, 29, 25, 5, 4, 16, 4, 18, 23, 31, 26, 33, 25, 9, 33, 32, 15, 13, 13, 19, 19, 12, 13, 29, 9, 24, 32, 11, 15, 21, 19, 9, 9, 8, 24, 12, 25, 11, 10, 16, 20, 26, 17, 17, 17, 8, 16, 19, 25, 25, 25, 19, 12, 8, 18, 42, 18, 12, 20, 25, 15, 17, 15, 35, 15, 9, 9, 10, 58, 25, 87, 26, 19, 14, 20, 14, 27, 30, 22, 17, 17, 17, 26, 18, 12, 9, 18, 11, 28, 43, 21, 17, 8, 21, 26, 23, 9, 12, 17, 14, 31, 49, 43, 19, 9, 24, 11, 26, 11, 21, 24, 9, 16, 20, 12, 12, 9, 26, 12, 8, 33, 7, 8, 18, 22, 10, 16, 7, 18, 13, 41, 12, 10, 61, 13, 20, 22, 22, 45, 21, 19, 19, 19, 21, 17, 18, 15, 15, 18, 30, 15, 27, 22, 19, 22, 20, 28, 38, 18, 20, 26, 20, 15, 19, 10, 69, 17, 26, 50, 37, 9, 10, 12, 9, 23, 22, 17, 13, 10, 12, 45, 8, 9, 10, 5, 13, 32, 15, 15, 6, 11, 12, 9, 11, 13, 17, 15, 14, 11, 12, 11, 9, 11, 8, 9, 11, 15, 15, 16, 14, 22, 7, 10, 22, 18, 30, 17, 14, 6, 25, 19, 18, 22, 17, 6, 16, 12, 18, 48, 28, 25, 76, 20, 20, 17, 20, 54, 30, 27, 8, 26, 31, 18, 56, 20, 37, 14, 3, 3, 10, 28, 14, 9, 16, 21, 21, 24, 11, 11, 10, 14, 24, 35, 21, 22, 24, 35, 33, 39, 36, 28, 30, 25, 35, 23, 23, 29, 15, 28, 22, 21, 29, 10, 28, 7, 4, 4, 9, 19, 12, 12, 12, 18, 14, 17, 19, 8, 16, 26, 13, 20, 22, 51, 19, 9, 30, 30, 9, 10, 26, 18, 16, 40, 48, 31, 20, 69, 36, 18, 21, 18, 17, 43, 23, 22, 28, 11, 12, 12, 11, 7, 4, 23, 18, 72, 60, 57, 18, 22, 23, 37, 34, 32, 25, 48, 58, 45, 8, 29, 25, 14, 33, 44, 17, 14, 15, 10, 9, 14, 17, 19, 13, 26, 7, 10, 15, 23, 23, 24, 29, 30, 22, 17, 15, 22, 15, 10, 18, 20, 18, 10, 37, 29, 9, 9, 11, 7, 13, 41, 69, 23, 16, 39, 10, 23, 7, 23, 33, 25, 31, 20, 32, 25, 29, 20, 23, 19, 24, 35, 18, 20, 21, 21, 25, 26, 21, 27, 23, 22, 13, 14, 22, 22, 16, 28, 16, 50, 18, 23, 15, 20, 15, 19, 23, 19, 43, 35, 18, 27, 18, 32, 34, 43, 49, 18, 25, 71, 117, 33, 11, 45, 55, 34, 16, 35, 31, 17, 17, 114, 15, 17, 19, 19, 23, 23, 9, 9, 33, 38, 37, 15, 26, 28, 29, 44, 22, 26, 29, 31, 31, 50, 38, 23, 28, 38, 17, 18, 18, 19, 24, 31, 37, 14, 15, 20, 18, 15, 26, 14, 18, 15, 15, 21, 10, 16, 21, 11, 11, 12, 9, 45, 24, 38, 20, 12, 12, 15, 9, 30, 27, 19, 31, 12, 14, 15, 12, 40, 12, 25, 59, 33, 33, 34, 36, 25, 13, 9, 16, 6, 17, 20, 19, 20, 21, 25, 26, 16, 17, 29, 20, 39, 29, 21, 19, 23, 21, 21, 15, 16, 15, 15, 21, 15, 18, 10, 34, 20, 26, 47, 13, 30, 32, 17, 27, 15, 8, 13, 14, 28, 18, 40, 26, 21, 13, 20, 7, 9, 16, 38, 44, 19, 16, 23, 16, 5, 17, 14, 25, 57, 43, 10, 11, 17, 16, 25, 15, 18, 17, 17, 35, 20, 16, 17, 21, 21, 40, 15, 16, 17, 20, 18, 17, 3, 26, 9, 18, 17, 19, 28, 9, 6, 10, 6, 36, 36, 6, 24, 26, 24, 27, 3, 23, 69, 48, 74, 109, 73, 19, 67, 67, 67, 9, 44, 10, 10, 9, 14, 10, 6, 6, 15, 36, 33, 37, 16, 15, 46, 14, 14, 21, 6, 14, 14, 19, 14, 46, 29, 16, 29, 26, 24, 26, 16, 13, 52, 24, 61, 56, 11, 11, 9, 26, 28, 33, 30, 27, 22, 44, 29, 44, 23, 39, 30, 23, 43, 27, 30, 26, 9, 14, 14, 13, 6, 15, 26, 25, 37, 30, 30, 25, 25, 17, 9, 9, 10, 7, 50, 34, 11, 22, 13, 5, 16, 16, 17, 42, 14, 6, 11, 11, 6, 7, 9, 25, 45, 61, 15, 25, 12, 29, 26, 3, 3, 5, 4, 5, 6, 6, 7, 7, 9, 17, 4, 5, 15, 16, 14, 5, 26, 27, 10, 15, 15, 9, 9, 9, 21, 24, 32, 21, 18, 23, 26, 39, 26, 28, 23, 31, 34, 31, 9, 17, 17, 22, 21, 11, 40, 24, 9, 16, 19, 13, 16, 28, 19, 33, 27, 25, 22, 16, 16, 28, 15, 16, 20, 12, 30, 13, 14, 24, 24, 34, 15, 12, 12, 17, 15, 15, 10, 13, 7, 16, 14, 33, 6, 6, 25, 13, 23, 17, 13, 16, 9, 19, 17, 20, 20, 8, 14, 34, 9, 9, 30, 21, 20, 9, 13, 9, 12, 22, 23, 26, 27, 19, 19, 21, 17, 17, 25, 17, 25, 10, 11, 9, 8, 5, 17, 26, 21, 17, 4, 20, 18, 18, 21, 16, 17, 14, 12, 11, 17, 17, 17, 15, 15, 33, 8, 14, 22, 15, 16, 13, 44, 44, 14, 14, 26, 19, 19, 11, 15, 8, 8, 7, 25, 15, 26, 13, 18, 15, 27, 22, 24, 19, 10, 20, 17, 11, 21, 16, 18, 17, 24, 24, 16, 12, 29, 26, 20, 19, 18, 21, 15, 15, 15, 16, 14, 76, 67, 26, 22, 24, 43, 19, 37, 19, 59, 17, 16, 9, 9, 15, 12, 23, 10, 38, 9, 71, 20, 53, 21, 9, 25, 25, 35, 30, 18, 11, 14, 17, 17, 17, 44, 57, 18, 17, 11, 8, 21, 17, 26, 24, 25, 19, 24, 24, 17, 17, 21, 24, 19, 48, 13, 14, 16, 16, 24, 14, 16, 22, 11, 16, 15, 8, 21, 13, 54, 16, 69, 12, 38, 19, 8, 19, 16, 20, 23, 13, 7, 28, 10, 24, 34, 34, 33, 29, 14, 17, 22, 33, 23, 24, 26, 11, 9, 20, 17, 27, 25, 9, 8, 8, 19, 13, 13, 18, 13, 13, 20, 14, 13, 14, 14, 14, 9, 10, 7, 7, 19, 19, 37, 7, 7, 19, 19, 19, 12, 13, 14, 15, 13, 14, 11, 10, 11, 8, 7, 13, 7, 7, 8, 10, 45, 45, 10, 10, 7, 16, 12, 10, 22, 14, 27, 25, 21, 17, 10, 22, 22, 19, 18, 19, 28, 24, 30, 45, 46, 37, 20, 13, 18, 22, 31, 22, 18, 20, 20, 36, 16, 20, 20, 21, 21, 26, 26, 21, 23, 30, 19, 45, 18, 21, 21, 18, 26, 23, 21, 23, 23, 31, 15, 18, 16, 18, 18, 18, 18, 15, 15, 37, 20, 22, 15, 19, 19, 23, 20, 20, 20, 37, 19, 25, 54, 49, 28, 28, 34, 39, 26, 28, 24, 24, 28, 23, 23, 30, 30, 15, 16, 15, 28, 34, 37, 25, 25, 20, 15, 15, 15, 16, 16, 16, 16, 17, 20, 20, 16, 15, 18, 18, 18, 15, 15, 18, 14, 15, 15, 15, 12, 10, 15, 27, 6, 18, 14, 15, 10, 35, 20, 10, 15, 14, 10, 13, 15, 22, 19, 22, 17, 16, 19, 21, 21, 42, 33, 67, 5, 13, 26, 25, 10, 20, 12, 22, 34, 28, 16, 27, 19, 11, 17, 17, 13, 12, 13, 13, 11, 30, 11, 11, 7, 7, 29, 32, 14, 18, 17, 16, 15, 15, 16, 16, 7, 21, 22, 15, 15, 9, 14, 24, 21, 9, 6, 6, 7, 15, 15, 16, 27, 15, 7, 15, 15, 11, 24, 13, 11, 9, 12, 19, 15, 9, 13, 10, 13, 16, 15, 14, 22, 13, 15, 23, 17, 14, 16, 15, 20, 41, 19, 17, 17, 16, 13, 39, 13, 10, 11, 11, 11, 10, 17, 36, 15, 14, 8, 16, 14, 13, 11, 11, 15, 28, 14, 14, 26, 18, 9, 8, 17, 15, 8, 15, 15, 9, 12, 4, 21, 15, 7, 18, 8, 26, 23, 23, 19, 15, 13, 10, 15, 9, 10, 10, 10, 24, 7, 3, 15, 19, 26, 24, 18, 16, 18, 12, 29, 28, 25, 29, 17, 17, 13, 6, 8, 15, 32, 14, 10, 19, 21, 13, 27, 15, 16, 7, 31, 47, 26, 15, 5, 78, 34, 27, 19, 10, 10, 31, 18, 23, 22, 23, 28, 19, 20, 31, 39, 53, 31, 37, 23, 19, 20, 20, 7, 17, 13, 8, 9, 19, 14, 21, 14, 14, 16, 14, 22, 22, 19, 22, 13, 11, 16, 16, 6, 5, 25, 47, 26, 24, 21, 23, 16, 22, 18, 16, 18, 18, 21, 29, 26, 31, 35, 29, 29, 37, 38, 31, 36, 36, 42, 23, 25, 19, 16, 15, 23, 25, 21, 30, 21, 16, 12, 15, 12, 12, 25, 22, 29, 19, 37, 20, 28, 10, 8, 8, 8, 8, 5, 18, 13, 6, 8, 5, 3, 7, 7, 19, 5, 25, 12, 10, 16, 19, 6, 12, 14, 11, 11, 8, 16, 30, 33, 33, 35, 17, 19, 21, 16, 25, 14, 17, 14, 19, 15, 17, 11, 6, 20, 20, 15, 19, 20, 8, 9, 23, 3, 13, 5, 2, 21, 14, 29, 18, 22, 64, 24, 36, 26, 27, 27, 18, 21, 26, 18, 24, 16, 19, 22, 23, 22, 9, 25, 16, 21, 18, 44, 21, 41, 17, 21, 22, 19, 20, 80, 83, 23, 17, 24, 23, 22, 17, 42, 17, 21, 21, 28, 15, 22, 19, 30, 19, 12, 4, 23, 6, 9, 17, 42, 32, 20, 20, 20, 20, 12, 12, 13, 11, 18, 16, 13, 14, 25, 25, 27, 31, 30, 44, 31, 46, 32, 46, 16, 22, 52, 22, 63, 19, 20, 34, 15, 59, 20, 54, 23, 15, 23, 49, 11, 8, 20, 19, 13, 11, 14, 18, 18, 35, 17, 19, 19, 14, 14, 14, 29, 10, 11, 12, 8, 10, 10, 11, 7, 38, 20, 13, 10, 12, 21, 17, 17, 14, 34, 34, 13, 13, 11, 8, 9, 30, 11, 14, 14, 7, 4, 4, 28, 17, 17, 23, 34, 18, 15, 27, 37, 34, 25, 12, 9, 21, 36, 22, 10, 14, 14, 12, 12, 18, 18, 21, 71, 22, 14, 17, 13, 13, 8, 15, 12, 6, 11, 7, 7, 7, 14, 10, 10, 12, 12, 51, 45, 45, 37, 36, 11, 11, 23, 41, 29, 21, 17, 27, 89, 10, 30, 49, 60, 43, 34, 20, 41, 41, 227, 12, 18, 15, 29, 21, 112, 150, 49, 129, 24, 20, 20, 20, 17, 20, 20, 20, 21, 39, 32, 22, 29, 17, 17, 26, 22, 34, 25, 27, 30, 31, 21, 31, 20, 39, 25, 25, 20, 20, 20, 25, 23, 19, 30, 5, 21, 18, 15, 18, 24, 18, 24, 21, 42, 21, 22, 26, 18, 18, 28, 25, 23, 18, 26, 27, 21, 28, 26, 23, 16, 19, 13, 22, 17, 19, 15, 22, 33, 22, 20, 27, 21, 18, 26, 17, 14, 29, 22, 18, 21, 17, 17, 18, 22, 24, 13, 20, 17, 14, 14, 28, 27, 16, 18, 28, 16, 19, 21, 18, 18, 19, 20, 21, 22, 23, 33, 21, 25, 25, 18, 17, 17, 18, 18, 16, 21, 25, 51, 37, 25, 30, 73, 32, 32, 38, 22, 43, 27, 51, 56, 19, 37, 17, 18, 62, 28, 35, 20, 52, 120, 38, 14, 20, 17, 21, 31, 18, 30, 17, 71, 17, 15, 33, 13, 26, 24, 14, 51, 51, 15, 19, 17, 13, 14, 19, 20, 22, 22, 9, 45, 15, 19, 19, 22, 29, 15, 8, 29, 15, 19, 27, 10, 49, 9, 28, 26, 33, 22, 27, 34, 43, 22, 52, 11, 24, 20, 36, 29, 20, 48, 20, 31, 20, 21, 31, 38, 35, 18, 18, 37, 43, 45, 26, 26, 39, 32, 42, 38, 17, 18, 17, 24, 16, 30, 22, 27, 27, 17, 22, 22, 18, 14, 19, 11, 15, 15, 11, 14, 13, 12, 13, 16, 17, 21, 17, 31, 18, 18, 11, 16, 16, 20, 17, 17, 11, 10, 9, 10, 12, 12, 9, 23, 17, 17, 20, 22, 33, 31, 29, 18, 20, 12, 20, 21, 32, 53, 20, 83, 19, 25, 13, 47, 32, 27, 28, 26, 26, 28, 58, 50, 31, 20, 20, 26, 35, 49, 55, 25, 17, 6, 17, 22, 20, 16, 16, 12, 19, 7, 12, 11, 11, 8, 22, 18, 18, 15, 10, 10, 11, 11, 59, 36, 12, 20, 13, 30, 12, 32, 22, 21, 52, 56, 40, 40, 35, 38, 43, 21, 14, 13, 13, 43, 24, 24, 26, 30, 35, 22, 30, 28, 28, 21, 14, 14, 13, 13, 24, 16, 20, 19, 31, 21, 33, 33, 21, 23, 23, 22, 22, 25, 25, 28, 20, 25, 25, 23, 20, 33, 29, 32, 32, 16, 18, 24, 31, 15, 17, 44, 17, 19, 19, 23, 12, 28, 17, 35, 23, 22, 31, 42, 25, 85, 20, 21, 22, 15, 21, 25, 12, 9, 21, 24, 20, 13, 18, 16, 22, 18, 7, 12, 13, 13, 13, 49, 25, 12, 12, 8, 8, 8, 8, 20, 30, 21, 12, 16, 20, 19, 14, 13, 9, 9, 22, 14, 15, 14, 15, 12, 7, 6, 6, 5, 12, 12, 12, 31, 16, 16, 7, 4, 44, 13, 21, 14, 10, 10, 22, 7, 8, 9, 13, 10, 10, 11, 12, 13, 13, 16, 16, 15, 7, 9, 11, 8, 20, 35, 46, 28, 24, 20, 21, 18, 5, 20, 9, 9, 33, 37], \"xaxis\": \"x\", \"yaxis\": \"y\"}],\n",
              "                        {\"barmode\": \"relative\", \"legend\": {\"tracegroupgap\": 0}, \"margin\": {\"t\": 60}, \"template\": {\"data\": {\"bar\": [{\"error_x\": {\"color\": \"#2a3f5f\"}, \"error_y\": {\"color\": \"#2a3f5f\"}, \"marker\": {\"line\": {\"color\": \"#E5ECF6\", \"width\": 0.5}}, \"type\": \"bar\"}], \"barpolar\": [{\"marker\": {\"line\": {\"color\": \"#E5ECF6\", \"width\": 0.5}}, \"type\": \"barpolar\"}], \"carpet\": [{\"aaxis\": {\"endlinecolor\": \"#2a3f5f\", \"gridcolor\": \"white\", \"linecolor\": \"white\", \"minorgridcolor\": \"white\", \"startlinecolor\": \"#2a3f5f\"}, \"baxis\": {\"endlinecolor\": \"#2a3f5f\", \"gridcolor\": \"white\", \"linecolor\": \"white\", \"minorgridcolor\": \"white\", \"startlinecolor\": \"#2a3f5f\"}, \"type\": \"carpet\"}], \"choropleth\": [{\"colorbar\": {\"outlinewidth\": 0, \"ticks\": \"\"}, \"type\": \"choropleth\"}], \"contour\": [{\"colorbar\": {\"outlinewidth\": 0, \"ticks\": \"\"}, \"colorscale\": [[0.0, \"#0d0887\"], [0.1111111111111111, \"#46039f\"], [0.2222222222222222, \"#7201a8\"], [0.3333333333333333, \"#9c179e\"], [0.4444444444444444, \"#bd3786\"], [0.5555555555555556, \"#d8576b\"], [0.6666666666666666, \"#ed7953\"], [0.7777777777777778, \"#fb9f3a\"], [0.8888888888888888, \"#fdca26\"], [1.0, \"#f0f921\"]], \"type\": \"contour\"}], \"contourcarpet\": [{\"colorbar\": {\"outlinewidth\": 0, \"ticks\": \"\"}, \"type\": \"contourcarpet\"}], \"heatmap\": [{\"colorbar\": {\"outlinewidth\": 0, \"ticks\": \"\"}, \"colorscale\": [[0.0, \"#0d0887\"], [0.1111111111111111, \"#46039f\"], [0.2222222222222222, \"#7201a8\"], [0.3333333333333333, \"#9c179e\"], [0.4444444444444444, \"#bd3786\"], [0.5555555555555556, \"#d8576b\"], [0.6666666666666666, \"#ed7953\"], [0.7777777777777778, \"#fb9f3a\"], [0.8888888888888888, \"#fdca26\"], [1.0, \"#f0f921\"]], \"type\": \"heatmap\"}], \"heatmapgl\": [{\"colorbar\": {\"outlinewidth\": 0, \"ticks\": \"\"}, \"colorscale\": [[0.0, \"#0d0887\"], [0.1111111111111111, \"#46039f\"], [0.2222222222222222, \"#7201a8\"], [0.3333333333333333, \"#9c179e\"], [0.4444444444444444, \"#bd3786\"], [0.5555555555555556, \"#d8576b\"], [0.6666666666666666, \"#ed7953\"], [0.7777777777777778, \"#fb9f3a\"], [0.8888888888888888, \"#fdca26\"], [1.0, \"#f0f921\"]], \"type\": \"heatmapgl\"}], \"histogram\": [{\"marker\": {\"colorbar\": {\"outlinewidth\": 0, \"ticks\": \"\"}}, \"type\": \"histogram\"}], \"histogram2d\": [{\"colorbar\": {\"outlinewidth\": 0, \"ticks\": \"\"}, \"colorscale\": [[0.0, \"#0d0887\"], [0.1111111111111111, \"#46039f\"], [0.2222222222222222, \"#7201a8\"], [0.3333333333333333, \"#9c179e\"], [0.4444444444444444, \"#bd3786\"], [0.5555555555555556, \"#d8576b\"], [0.6666666666666666, \"#ed7953\"], [0.7777777777777778, \"#fb9f3a\"], [0.8888888888888888, \"#fdca26\"], [1.0, \"#f0f921\"]], \"type\": \"histogram2d\"}], \"histogram2dcontour\": [{\"colorbar\": {\"outlinewidth\": 0, \"ticks\": \"\"}, \"colorscale\": [[0.0, \"#0d0887\"], [0.1111111111111111, \"#46039f\"], [0.2222222222222222, \"#7201a8\"], [0.3333333333333333, \"#9c179e\"], [0.4444444444444444, \"#bd3786\"], [0.5555555555555556, \"#d8576b\"], [0.6666666666666666, \"#ed7953\"], [0.7777777777777778, \"#fb9f3a\"], [0.8888888888888888, \"#fdca26\"], [1.0, \"#f0f921\"]], \"type\": \"histogram2dcontour\"}], \"mesh3d\": [{\"colorbar\": {\"outlinewidth\": 0, \"ticks\": \"\"}, \"type\": \"mesh3d\"}], \"parcoords\": [{\"line\": {\"colorbar\": {\"outlinewidth\": 0, \"ticks\": \"\"}}, \"type\": \"parcoords\"}], \"pie\": [{\"automargin\": true, \"type\": \"pie\"}], \"scatter\": [{\"marker\": {\"colorbar\": {\"outlinewidth\": 0, \"ticks\": \"\"}}, \"type\": \"scatter\"}], \"scatter3d\": [{\"line\": {\"colorbar\": {\"outlinewidth\": 0, \"ticks\": \"\"}}, \"marker\": {\"colorbar\": {\"outlinewidth\": 0, \"ticks\": \"\"}}, \"type\": \"scatter3d\"}], \"scattercarpet\": [{\"marker\": {\"colorbar\": {\"outlinewidth\": 0, \"ticks\": \"\"}}, \"type\": \"scattercarpet\"}], \"scattergeo\": [{\"marker\": {\"colorbar\": {\"outlinewidth\": 0, \"ticks\": \"\"}}, \"type\": \"scattergeo\"}], \"scattergl\": [{\"marker\": {\"colorbar\": {\"outlinewidth\": 0, \"ticks\": \"\"}}, \"type\": \"scattergl\"}], \"scattermapbox\": [{\"marker\": {\"colorbar\": {\"outlinewidth\": 0, \"ticks\": \"\"}}, \"type\": \"scattermapbox\"}], \"scatterpolar\": [{\"marker\": {\"colorbar\": {\"outlinewidth\": 0, \"ticks\": \"\"}}, \"type\": \"scatterpolar\"}], \"scatterpolargl\": [{\"marker\": {\"colorbar\": {\"outlinewidth\": 0, \"ticks\": \"\"}}, \"type\": \"scatterpolargl\"}], \"scatterternary\": [{\"marker\": {\"colorbar\": {\"outlinewidth\": 0, \"ticks\": \"\"}}, \"type\": \"scatterternary\"}], \"surface\": [{\"colorbar\": {\"outlinewidth\": 0, \"ticks\": \"\"}, \"colorscale\": [[0.0, \"#0d0887\"], [0.1111111111111111, \"#46039f\"], [0.2222222222222222, \"#7201a8\"], [0.3333333333333333, \"#9c179e\"], [0.4444444444444444, \"#bd3786\"], [0.5555555555555556, \"#d8576b\"], [0.6666666666666666, \"#ed7953\"], [0.7777777777777778, \"#fb9f3a\"], [0.8888888888888888, \"#fdca26\"], [1.0, \"#f0f921\"]], \"type\": \"surface\"}], \"table\": [{\"cells\": {\"fill\": {\"color\": \"#EBF0F8\"}, \"line\": {\"color\": \"white\"}}, \"header\": {\"fill\": {\"color\": \"#C8D4E3\"}, \"line\": {\"color\": \"white\"}}, \"type\": \"table\"}]}, \"layout\": {\"annotationdefaults\": {\"arrowcolor\": \"#2a3f5f\", \"arrowhead\": 0, \"arrowwidth\": 1}, \"coloraxis\": {\"colorbar\": {\"outlinewidth\": 0, \"ticks\": \"\"}}, \"colorscale\": {\"diverging\": [[0, \"#8e0152\"], [0.1, \"#c51b7d\"], [0.2, \"#de77ae\"], [0.3, \"#f1b6da\"], [0.4, \"#fde0ef\"], [0.5, \"#f7f7f7\"], [0.6, \"#e6f5d0\"], [0.7, \"#b8e186\"], [0.8, \"#7fbc41\"], [0.9, \"#4d9221\"], [1, \"#276419\"]], \"sequential\": [[0.0, \"#0d0887\"], [0.1111111111111111, \"#46039f\"], [0.2222222222222222, \"#7201a8\"], [0.3333333333333333, \"#9c179e\"], [0.4444444444444444, \"#bd3786\"], [0.5555555555555556, \"#d8576b\"], [0.6666666666666666, \"#ed7953\"], [0.7777777777777778, \"#fb9f3a\"], [0.8888888888888888, \"#fdca26\"], [1.0, \"#f0f921\"]], \"sequentialminus\": [[0.0, \"#0d0887\"], [0.1111111111111111, \"#46039f\"], [0.2222222222222222, \"#7201a8\"], [0.3333333333333333, \"#9c179e\"], [0.4444444444444444, \"#bd3786\"], [0.5555555555555556, \"#d8576b\"], [0.6666666666666666, \"#ed7953\"], [0.7777777777777778, \"#fb9f3a\"], [0.8888888888888888, \"#fdca26\"], [1.0, \"#f0f921\"]]}, \"colorway\": [\"#636efa\", \"#EF553B\", \"#00cc96\", \"#ab63fa\", \"#FFA15A\", \"#19d3f3\", \"#FF6692\", \"#B6E880\", \"#FF97FF\", \"#FECB52\"], \"font\": {\"color\": \"#2a3f5f\"}, \"geo\": {\"bgcolor\": \"white\", \"lakecolor\": \"white\", \"landcolor\": \"#E5ECF6\", \"showlakes\": true, \"showland\": true, \"subunitcolor\": \"white\"}, \"hoverlabel\": {\"align\": \"left\"}, \"hovermode\": \"closest\", \"mapbox\": {\"style\": \"light\"}, \"paper_bgcolor\": \"white\", \"plot_bgcolor\": \"#E5ECF6\", \"polar\": {\"angularaxis\": {\"gridcolor\": \"white\", \"linecolor\": \"white\", \"ticks\": \"\"}, \"bgcolor\": \"#E5ECF6\", \"radialaxis\": {\"gridcolor\": \"white\", \"linecolor\": \"white\", \"ticks\": \"\"}}, \"scene\": {\"xaxis\": {\"backgroundcolor\": \"#E5ECF6\", \"gridcolor\": \"white\", \"gridwidth\": 2, \"linecolor\": \"white\", \"showbackground\": true, \"ticks\": \"\", \"zerolinecolor\": \"white\"}, \"yaxis\": {\"backgroundcolor\": \"#E5ECF6\", \"gridcolor\": \"white\", \"gridwidth\": 2, \"linecolor\": \"white\", \"showbackground\": true, \"ticks\": \"\", \"zerolinecolor\": \"white\"}, \"zaxis\": {\"backgroundcolor\": \"#E5ECF6\", \"gridcolor\": \"white\", \"gridwidth\": 2, \"linecolor\": \"white\", \"showbackground\": true, \"ticks\": \"\", \"zerolinecolor\": \"white\"}}, \"shapedefaults\": {\"line\": {\"color\": \"#2a3f5f\"}}, \"ternary\": {\"aaxis\": {\"gridcolor\": \"white\", \"linecolor\": \"white\", \"ticks\": \"\"}, \"baxis\": {\"gridcolor\": \"white\", \"linecolor\": \"white\", \"ticks\": \"\"}, \"bgcolor\": \"#E5ECF6\", \"caxis\": {\"gridcolor\": \"white\", \"linecolor\": \"white\", \"ticks\": \"\"}}, \"title\": {\"x\": 0.05}, \"xaxis\": {\"automargin\": true, \"gridcolor\": \"white\", \"linecolor\": \"white\", \"ticks\": \"\", \"title\": {\"standoff\": 15}, \"zerolinecolor\": \"white\", \"zerolinewidth\": 2}, \"yaxis\": {\"automargin\": true, \"gridcolor\": \"white\", \"linecolor\": \"white\", \"ticks\": \"\", \"title\": {\"standoff\": 15}, \"zerolinecolor\": \"white\", \"zerolinewidth\": 2}}}, \"xaxis\": {\"anchor\": \"y\", \"domain\": [0.0, 1.0], \"title\": {\"text\": \"Lengths\"}}, \"yaxis\": {\"anchor\": \"x\", \"domain\": [0.0, 1.0], \"title\": {\"text\": \"count\"}}},\n",
              "                        {\"responsive\": true}\n",
              "                    ).then(function(){\n",
              "                            \n",
              "var gd = document.getElementById('5de0b203-1032-4dfe-a608-12b4b152e55b');\n",
              "var x = new MutationObserver(function (mutations, observer) {{\n",
              "        var display = window.getComputedStyle(gd).display;\n",
              "        if (!display || display === 'none') {{\n",
              "            console.log([gd, 'removed!']);\n",
              "            Plotly.purge(gd);\n",
              "            observer.disconnect();\n",
              "        }}\n",
              "}});\n",
              "\n",
              "// Listen for the removal of the full notebook cells\n",
              "var notebookContainer = gd.closest('#notebook-container');\n",
              "if (notebookContainer) {{\n",
              "    x.observe(notebookContainer, {childList: true});\n",
              "}}\n",
              "\n",
              "// Listen for the clearing of the current output cell\n",
              "var outputEl = gd.closest('.output');\n",
              "if (outputEl) {{\n",
              "    x.observe(outputEl, {childList: true});\n",
              "}}\n",
              "\n",
              "                        })\n",
              "                };\n",
              "                \n",
              "            </script>\n",
              "        </div>\n",
              "</body>\n",
              "</html>"
            ]
          },
          "metadata": {
            "tags": []
          }
        }
      ]
    },
    {
      "cell_type": "code",
      "metadata": {
        "id": "rybi8aqL1LeI"
      },
      "source": [
        "prop_df = dict_to_df(token_prop, len(vocab))\n",
        "prop_df['Average'] = prop_df.apply(lambda row: np.mean(row.Count), axis=1)\n",
        "prop_df_sorted = prop_df.sort_values(by=['Average'], ascending=False)\n",
        "\n",
        "# fig = px.box(prop_df_sorted.head(10), x='Token', y='Count')\n",
        "# fig.show()"
      ],
      "execution_count": null,
      "outputs": []
    },
    {
      "cell_type": "code",
      "metadata": {
        "id": "fIjbrco4zjH5"
      },
      "source": [
        "# prop_dict = {'C': token_prop['C'], '(':token_prop['(']}\n",
        "# # prop_df = pd.DataFrame([token_prop['C'], token_prop['('], token_prop[')']], columns=['Carbon', '(', ')'])\n",
        "# prop_df = pd.DataFrame(prop_dict)\n",
        "\n",
        "# fig = px.box(prop_df, y=)\n",
        "# fig.show()"
      ],
      "execution_count": null,
      "outputs": []
    },
    {
      "cell_type": "code",
      "metadata": {
        "id": "62dUIIe60oRm"
      },
      "source": [
        ""
      ],
      "execution_count": null,
      "outputs": []
    }
  ]
}
