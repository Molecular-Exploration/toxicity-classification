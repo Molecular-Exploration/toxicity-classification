{
  "nbformat": 4,
  "nbformat_minor": 0,
  "metadata": {
    "accelerator": "GPU",
    "colab": {
      "name": "CNN_model.ipynb",
      "provenance": [],
      "collapsed_sections": [],
      "machine_shape": "hm"
    },
    "kernelspec": {
      "display_name": "Python 3",
      "name": "python3"
    },
    "language_info": {
      "name": "python"
    },
    "widgets": {
      "application/vnd.jupyter.widget-state+json": {
        "a909b1e5fe644ab9a5f76ae591c9975f": {
          "model_module": "@jupyter-widgets/controls",
          "model_name": "VBoxModel",
          "state": {
            "_view_name": "VBoxView",
            "_dom_classes": [],
            "_model_name": "VBoxModel",
            "_view_module": "@jupyter-widgets/controls",
            "_model_module_version": "1.5.0",
            "_view_count": null,
            "_view_module_version": "1.5.0",
            "box_style": "",
            "layout": "IPY_MODEL_4ba82fdb978342ba860c4fa063193ec3",
            "_model_module": "@jupyter-widgets/controls",
            "children": [
              "IPY_MODEL_4a40960869524bc48ffff7a9f9513645",
              "IPY_MODEL_a78633992c22482e94c880afeb6354a6"
            ]
          }
        },
        "4ba82fdb978342ba860c4fa063193ec3": {
          "model_module": "@jupyter-widgets/base",
          "model_name": "LayoutModel",
          "state": {
            "_view_name": "LayoutView",
            "grid_template_rows": null,
            "right": null,
            "justify_content": null,
            "_view_module": "@jupyter-widgets/base",
            "overflow": null,
            "_model_module_version": "1.2.0",
            "_view_count": null,
            "flex_flow": null,
            "width": null,
            "min_width": null,
            "border": null,
            "align_items": null,
            "bottom": null,
            "_model_module": "@jupyter-widgets/base",
            "top": null,
            "grid_column": null,
            "overflow_y": null,
            "overflow_x": null,
            "grid_auto_flow": null,
            "grid_area": null,
            "grid_template_columns": null,
            "flex": null,
            "_model_name": "LayoutModel",
            "justify_items": null,
            "grid_row": null,
            "max_height": null,
            "align_content": null,
            "visibility": null,
            "align_self": null,
            "height": null,
            "min_height": null,
            "padding": null,
            "grid_auto_rows": null,
            "grid_gap": null,
            "max_width": null,
            "order": null,
            "_view_module_version": "1.2.0",
            "grid_template_areas": null,
            "object_position": null,
            "object_fit": null,
            "grid_auto_columns": null,
            "margin": null,
            "display": null,
            "left": null
          }
        },
        "4a40960869524bc48ffff7a9f9513645": {
          "model_module": "@jupyter-widgets/controls",
          "model_name": "LabelModel",
          "state": {
            "_view_name": "LabelView",
            "style": "IPY_MODEL_eb8b2513f40744ac89b4c088902f7d8b",
            "_dom_classes": [],
            "description": "",
            "_model_name": "LabelModel",
            "placeholder": "​",
            "_view_module": "@jupyter-widgets/controls",
            "_model_module_version": "1.5.0",
            "value": " 624.76MB of 624.76MB uploaded (0.00MB deduped)\r",
            "_view_count": null,
            "_view_module_version": "1.5.0",
            "description_tooltip": null,
            "_model_module": "@jupyter-widgets/controls",
            "layout": "IPY_MODEL_70ac41bc9a8b499cbc0d82a6c9c17422"
          }
        },
        "a78633992c22482e94c880afeb6354a6": {
          "model_module": "@jupyter-widgets/controls",
          "model_name": "FloatProgressModel",
          "state": {
            "_view_name": "ProgressView",
            "style": "IPY_MODEL_ec80e5ccf7ab40aea5f6f863b071a0a7",
            "_dom_classes": [],
            "description": "",
            "_model_name": "FloatProgressModel",
            "bar_style": "",
            "max": 1,
            "_view_module": "@jupyter-widgets/controls",
            "_model_module_version": "1.5.0",
            "value": 1,
            "_view_count": null,
            "_view_module_version": "1.5.0",
            "orientation": "horizontal",
            "min": 0,
            "description_tooltip": null,
            "_model_module": "@jupyter-widgets/controls",
            "layout": "IPY_MODEL_6ceab0b1036a48a2adf9cbcb06f6c95b"
          }
        },
        "eb8b2513f40744ac89b4c088902f7d8b": {
          "model_module": "@jupyter-widgets/controls",
          "model_name": "DescriptionStyleModel",
          "state": {
            "_view_name": "StyleView",
            "_model_name": "DescriptionStyleModel",
            "description_width": "",
            "_view_module": "@jupyter-widgets/base",
            "_model_module_version": "1.5.0",
            "_view_count": null,
            "_view_module_version": "1.2.0",
            "_model_module": "@jupyter-widgets/controls"
          }
        },
        "70ac41bc9a8b499cbc0d82a6c9c17422": {
          "model_module": "@jupyter-widgets/base",
          "model_name": "LayoutModel",
          "state": {
            "_view_name": "LayoutView",
            "grid_template_rows": null,
            "right": null,
            "justify_content": null,
            "_view_module": "@jupyter-widgets/base",
            "overflow": null,
            "_model_module_version": "1.2.0",
            "_view_count": null,
            "flex_flow": null,
            "width": null,
            "min_width": null,
            "border": null,
            "align_items": null,
            "bottom": null,
            "_model_module": "@jupyter-widgets/base",
            "top": null,
            "grid_column": null,
            "overflow_y": null,
            "overflow_x": null,
            "grid_auto_flow": null,
            "grid_area": null,
            "grid_template_columns": null,
            "flex": null,
            "_model_name": "LayoutModel",
            "justify_items": null,
            "grid_row": null,
            "max_height": null,
            "align_content": null,
            "visibility": null,
            "align_self": null,
            "height": null,
            "min_height": null,
            "padding": null,
            "grid_auto_rows": null,
            "grid_gap": null,
            "max_width": null,
            "order": null,
            "_view_module_version": "1.2.0",
            "grid_template_areas": null,
            "object_position": null,
            "object_fit": null,
            "grid_auto_columns": null,
            "margin": null,
            "display": null,
            "left": null
          }
        },
        "ec80e5ccf7ab40aea5f6f863b071a0a7": {
          "model_module": "@jupyter-widgets/controls",
          "model_name": "ProgressStyleModel",
          "state": {
            "_view_name": "StyleView",
            "_model_name": "ProgressStyleModel",
            "description_width": "",
            "_view_module": "@jupyter-widgets/base",
            "_model_module_version": "1.5.0",
            "_view_count": null,
            "_view_module_version": "1.2.0",
            "bar_color": null,
            "_model_module": "@jupyter-widgets/controls"
          }
        },
        "6ceab0b1036a48a2adf9cbcb06f6c95b": {
          "model_module": "@jupyter-widgets/base",
          "model_name": "LayoutModel",
          "state": {
            "_view_name": "LayoutView",
            "grid_template_rows": null,
            "right": null,
            "justify_content": null,
            "_view_module": "@jupyter-widgets/base",
            "overflow": null,
            "_model_module_version": "1.2.0",
            "_view_count": null,
            "flex_flow": null,
            "width": null,
            "min_width": null,
            "border": null,
            "align_items": null,
            "bottom": null,
            "_model_module": "@jupyter-widgets/base",
            "top": null,
            "grid_column": null,
            "overflow_y": null,
            "overflow_x": null,
            "grid_auto_flow": null,
            "grid_area": null,
            "grid_template_columns": null,
            "flex": null,
            "_model_name": "LayoutModel",
            "justify_items": null,
            "grid_row": null,
            "max_height": null,
            "align_content": null,
            "visibility": null,
            "align_self": null,
            "height": null,
            "min_height": null,
            "padding": null,
            "grid_auto_rows": null,
            "grid_gap": null,
            "max_width": null,
            "order": null,
            "_view_module_version": "1.2.0",
            "grid_template_areas": null,
            "object_position": null,
            "object_fit": null,
            "grid_auto_columns": null,
            "margin": null,
            "display": null,
            "left": null
          }
        }
      }
    }
  },
  "cells": [
    {
      "cell_type": "code",
      "metadata": {
        "colab": {
          "base_uri": "https://localhost:8080/"
        },
        "id": "8yD_y7qN4rzL",
        "outputId": "564cd1f0-fbe2-43ed-d161-c17d86d166a8"
      },
      "source": [
        "from google.colab import drive\n",
        "drive.mount('/content/drive/')"
      ],
      "execution_count": 1,
      "outputs": [
        {
          "output_type": "stream",
          "text": [
            "Drive already mounted at /content/drive/; to attempt to forcibly remount, call drive.mount(\"/content/drive/\", force_remount=True).\n"
          ],
          "name": "stdout"
        }
      ]
    },
    {
      "cell_type": "code",
      "metadata": {
        "id": "g5ptTKW95Riz"
      },
      "source": [
        "#from zipfile import ZipFile\n",
        "#train_name = '/content/drive/MyDrive/DATA_2040/Molecular Exploration/Data/SMILES_train_imgs.zip'\n",
        "#test_name = '/content/drive/MyDrive/DATA_2040/Molecular Exploration/Data/SMILES_test_imgs.zip'\n",
        "\n",
        "# with ZipFile(train_name, 'r') as zip:\n",
        "\n",
        "#   print(\"Extracting new train files\")\n",
        "#   zip.extractall()\n",
        "#   print(\"done!\")\n",
        "\n",
        "# with ZipFile(test_name, 'r') as zip:\n",
        "\n",
        "#   print(\"Extracting new test files\")\n",
        "#   zip.extractall()\n",
        "#   print(\"done!\")\n",
        "\n",
        "#!unzip -uq \"/content/drive/MyDrive/DATA_2040/Molecular Exploration/Data/SMILES_train_imgs.zip\" -d \"/content/drive/MyDrive/DATA_2040/Molecular Exploration/Data/SMILES_train_imgs\""
      ],
      "execution_count": 2,
      "outputs": []
    },
    {
      "cell_type": "code",
      "metadata": {
        "colab": {
          "base_uri": "https://localhost:8080/",
          "height": 596
        },
        "id": "yzP6joVRJlIA",
        "outputId": "27b0bd64-bec2-4fce-81ed-529213fc65c2"
      },
      "source": [
        "!pip install -q wandb\n",
        "import wandb\n",
        "\n",
        "wandb.init(project=\"SMILES_CNN_v2\")"
      ],
      "execution_count": 4,
      "outputs": [
        {
          "output_type": "stream",
          "text": [
            "\u001b[34m\u001b[1mwandb\u001b[0m: Currently logged in as: \u001b[33mjgreen\u001b[0m (use `wandb login --relogin` to force relogin)\n"
          ],
          "name": "stderr"
        },
        {
          "output_type": "display_data",
          "data": {
            "text/html": [
              "\n",
              "                Tracking run with wandb version 0.10.26<br/>\n",
              "                Syncing run <strong style=\"color:#cdcd00\">apricot-sky-1</strong> to <a href=\"https://wandb.ai\" target=\"_blank\">Weights & Biases</a> <a href=\"https://docs.wandb.com/integrations/jupyter.html\" target=\"_blank\">(Documentation)</a>.<br/>\n",
              "                Project page: <a href=\"https://wandb.ai/jgreen/SMILES_CNN_v2\" target=\"_blank\">https://wandb.ai/jgreen/SMILES_CNN_v2</a><br/>\n",
              "                Run page: <a href=\"https://wandb.ai/jgreen/SMILES_CNN_v2/runs/pvrlcg0l\" target=\"_blank\">https://wandb.ai/jgreen/SMILES_CNN_v2/runs/pvrlcg0l</a><br/>\n",
              "                Run data is saved locally in <code>/content/wandb/run-20210419_222234-pvrlcg0l</code><br/><br/>\n",
              "            "
            ],
            "text/plain": [
              "<IPython.core.display.HTML object>"
            ]
          },
          "metadata": {
            "tags": []
          }
        },
        {
          "output_type": "execute_result",
          "data": {
            "text/plain": [
              "<wandb.sdk.wandb_run.Run at 0x7f8f83797c50>"
            ],
            "text/html": [
              "<h1>Run(pvrlcg0l)</h1><iframe src=\"https://wandb.ai/jgreen/SMILES_CNN_v2/runs/pvrlcg0l\" style=\"border:none;width:100%;height:400px\"></iframe>"
            ]
          },
          "metadata": {
            "tags": []
          },
          "execution_count": 4
        }
      ]
    },
    {
      "cell_type": "code",
      "metadata": {
        "id": "NlySmLYU5C1V"
      },
      "source": [
        "import pandas as pd\n",
        "\n",
        "train_labels = pd.read_csv('/content/drive/MyDrive/Molecular Exploration/Data/label_mapping_train.csv', index_col='Unnamed: 0')\n",
        "test_labels = pd.read_csv('/content/drive/MyDrive/Molecular Exploration/Data/label_mapping_test.csv', index_col = 'Unnamed: 0')"
      ],
      "execution_count": 5,
      "outputs": []
    },
    {
      "cell_type": "code",
      "metadata": {
        "colab": {
          "base_uri": "https://localhost:8080/",
          "height": 197
        },
        "id": "oQAkllom53_G",
        "outputId": "31954b0e-daf0-4cfd-e222-89ee24993101"
      },
      "source": [
        "train_labels.head()\n",
        "test_labels.head()"
      ],
      "execution_count": 6,
      "outputs": [
        {
          "output_type": "execute_result",
          "data": {
            "text/html": [
              "<div>\n",
              "<style scoped>\n",
              "    .dataframe tbody tr th:only-of-type {\n",
              "        vertical-align: middle;\n",
              "    }\n",
              "\n",
              "    .dataframe tbody tr th {\n",
              "        vertical-align: top;\n",
              "    }\n",
              "\n",
              "    .dataframe thead th {\n",
              "        text-align: right;\n",
              "    }\n",
              "</style>\n",
              "<table border=\"1\" class=\"dataframe\">\n",
              "  <thead>\n",
              "    <tr style=\"text-align: right;\">\n",
              "      <th></th>\n",
              "      <th>file</th>\n",
              "      <th>target</th>\n",
              "      <th>smiles</th>\n",
              "    </tr>\n",
              "  </thead>\n",
              "  <tbody>\n",
              "    <tr>\n",
              "      <th>0</th>\n",
              "      <td>0.png</td>\n",
              "      <td>0</td>\n",
              "      <td>CNc1ncnc2c1ncn2[C@@H]1O[C@H](CO)C(O)[C@H]1O</td>\n",
              "    </tr>\n",
              "    <tr>\n",
              "      <th>1</th>\n",
              "      <td>1.png</td>\n",
              "      <td>1</td>\n",
              "      <td>Oc1cc(O)cc(/C=C/c2ccc(O)c(O)c2)c1</td>\n",
              "    </tr>\n",
              "    <tr>\n",
              "      <th>2</th>\n",
              "      <td>2.png</td>\n",
              "      <td>0</td>\n",
              "      <td>COc1ccc2c(c[n+](C)c3c4cc5c(cc4ccc23)OCO5)c1OC....</td>\n",
              "    </tr>\n",
              "    <tr>\n",
              "      <th>3</th>\n",
              "      <td>3.png</td>\n",
              "      <td>0</td>\n",
              "      <td>Br.Cc1onc(O)c1CC(N)C(=O)O</td>\n",
              "    </tr>\n",
              "    <tr>\n",
              "      <th>4</th>\n",
              "      <td>4.png</td>\n",
              "      <td>0</td>\n",
              "      <td>Nc1nc(N)c(N=O)c(OCC2CCCCC2)n1</td>\n",
              "    </tr>\n",
              "  </tbody>\n",
              "</table>\n",
              "</div>"
            ],
            "text/plain": [
              "    file  target                                             smiles\n",
              "0  0.png       0        CNc1ncnc2c1ncn2[C@@H]1O[C@H](CO)C(O)[C@H]1O\n",
              "1  1.png       1                  Oc1cc(O)cc(/C=C/c2ccc(O)c(O)c2)c1\n",
              "2  2.png       0  COc1ccc2c(c[n+](C)c3c4cc5c(cc4ccc23)OCO5)c1OC....\n",
              "3  3.png       0                          Br.Cc1onc(O)c1CC(N)C(=O)O\n",
              "4  4.png       0                      Nc1nc(N)c(N=O)c(OCC2CCCCC2)n1"
            ]
          },
          "metadata": {
            "tags": []
          },
          "execution_count": 6
        }
      ]
    },
    {
      "cell_type": "code",
      "metadata": {
        "id": "IcEZ2J9xA63s"
      },
      "source": [
        "from PIL import Image\n",
        "# Open the image form working directory\n",
        "image = Image.open('/content/drive/MyDrive/Molecular Exploration/Data/SMILES_train_imgs/0.png')\n",
        "# summarize some details about the image"
      ],
      "execution_count": 7,
      "outputs": []
    },
    {
      "cell_type": "code",
      "metadata": {
        "colab": {
          "base_uri": "https://localhost:8080/"
        },
        "id": "MV4ObnFCzdee",
        "outputId": "878805f9-dbaf-411d-e50c-f3bc17cdf5cc"
      },
      "source": [
        "image.size"
      ],
      "execution_count": 8,
      "outputs": [
        {
          "output_type": "execute_result",
          "data": {
            "text/plain": [
              "(300, 300)"
            ]
          },
          "metadata": {
            "tags": []
          },
          "execution_count": 8
        }
      ]
    },
    {
      "cell_type": "code",
      "metadata": {
        "id": "1dKdgROoBJl9"
      },
      "source": [
        "IMG_SIZE = image.size\n",
        "BATCH_SIZE = 64"
      ],
      "execution_count": 9,
      "outputs": []
    },
    {
      "cell_type": "code",
      "metadata": {
        "colab": {
          "base_uri": "https://localhost:8080/"
        },
        "id": "TrN42ZSP6sIU",
        "outputId": "46fae926-5856-4284-f3ef-e7e0da0b20ba"
      },
      "source": [
        "import os\n",
        "import tensorflow as tf\n",
        "\n",
        "train_imgs = \"/content/drive/MyDrive/Molecular Exploration/Data/SMILES_train_imgs/\"\n",
        "test_imgs = \"/content/drive/MyDrive/Molecular Exploration/Data/SMILES_test_imgs/\"\n",
        "\n",
        "# for filename in os.listdir(train_imgs):\n",
        "#     if filename.endswith(\".jpg\") or filename.endswith(\".png\"):\n",
        "#         print(os.path.join(directory, filename))\n",
        "#     else:\n",
        "#         continue\n",
        "\n",
        "data_gen = tf.keras.preprocessing.image.ImageDataGenerator(validation_split=0.2)\n",
        "\n",
        "labels = train_labels\n",
        "labels['target']=labels['target'].astype(str)\n",
        "\n",
        "train_generator = data_gen.flow_from_dataframe(dataframe=labels, \n",
        "                                               directory=train_imgs,\n",
        "                                               subset='training',\n",
        "                                               x_col='file',\n",
        "                                               y_col='target',\n",
        "                                               target_size=IMG_SIZE,\n",
        "                                               batch_size=BATCH_SIZE,\n",
        "                                               class_mode='categorical')\n",
        "\n",
        "valid_generator = data_gen.flow_from_dataframe(dataframe=labels, \n",
        "                                               directory=train_imgs,\n",
        "                                               subset='validation',\n",
        "                                               x_col='file',\n",
        "                                               y_col='target',\n",
        "                                               target_size=IMG_SIZE,\n",
        "                                               batch_size=BATCH_SIZE,\n",
        "                                               class_mode='categorical')\n",
        "\n",
        "labels = test_labels\n",
        "labels['target']=labels['target'].astype(str)\n",
        "\n",
        "test_generator = data_gen.flow_from_dataframe(dataframe=labels, \n",
        "                                               directory=test_imgs,\n",
        "                                               subset=None,\n",
        "                                               x_col='file',\n",
        "                                               y_col='target',\n",
        "                                               target_size=IMG_SIZE,\n",
        "                                               batch_size=BATCH_SIZE,\n",
        "                                               class_mode='binary')"
      ],
      "execution_count": 10,
      "outputs": [
        {
          "output_type": "stream",
          "text": [
            "Found 4634 validated image filenames belonging to 2 classes.\n",
            "Found 1158 validated image filenames belonging to 2 classes.\n",
            "Found 268 validated image filenames belonging to 2 classes.\n"
          ],
          "name": "stdout"
        }
      ]
    },
    {
      "cell_type": "code",
      "metadata": {
        "id": "tdBflnrxEiWs"
      },
      "source": [
        "from tensorflow.keras.layers import Input\n",
        "from tensorflow.keras.applications import *\n",
        "\n",
        "base = InceptionResNetV2(\n",
        "    weights='imagenet',\n",
        "    include_top = False,\n",
        "    input_tensor = None,\n",
        "    input_shape = (IMG_SIZE[0],IMG_SIZE[1],3)\n",
        ")"
      ],
      "execution_count": 13,
      "outputs": []
    },
    {
      "cell_type": "code",
      "metadata": {
        "id": "C-TMfI5TEy1M"
      },
      "source": [
        "def build_model():\n",
        "    inputs = base.output\n",
        "    model = tf.keras.layers.GlobalAveragePooling2D()(inputs)\n",
        "    model = tf.keras.layers.Dense(2, activation = 'softmax')(model)\n",
        "    return model\n",
        "\n",
        "callbacks = [wandb.keras.WandbCallback()]\n",
        " \n",
        "model = tf.keras.Model(inputs=base.input, outputs=build_model())"
      ],
      "execution_count": 14,
      "outputs": []
    },
    {
      "cell_type": "code",
      "metadata": {
        "colab": {
          "base_uri": "https://localhost:8080/"
        },
        "id": "J_IRfPm1FGrW",
        "outputId": "4f191412-d9a9-4cdb-c725-d5a7ca079fa7"
      },
      "source": [
        "model.compile(loss='categorical_crossentropy', optimizer=tf.keras.optimizers.Adam(), metrics=['AUC', 'accuracy'])\n",
        "\n",
        "history = model.fit(train_generator,\n",
        "                    validation_data=valid_generator,\n",
        "                    epochs=30,\n",
        "                    verbose=1,\n",
        "                    callbacks=callbacks)\n"
      ],
      "execution_count": 15,
      "outputs": [
        {
          "output_type": "stream",
          "text": [
            "Epoch 1/30\n",
            "73/73 [==============================] - 105s 1s/step - loss: 0.1783 - auc: 0.9785 - accuracy: 0.9644 - val_loss: 141.2323 - val_auc: 0.2433 - val_accuracy: 0.2427\n",
            "Epoch 2/30\n",
            "73/73 [==============================] - 81s 1s/step - loss: 0.0984 - auc: 0.9848 - accuracy: 0.9799 - val_loss: 3.1246 - val_auc: 0.7647 - val_accuracy: 0.7573\n",
            "Epoch 3/30\n",
            "73/73 [==============================] - 81s 1s/step - loss: 0.0916 - auc: 0.9888 - accuracy: 0.9800 - val_loss: 2.1813 - val_auc: 0.5266 - val_accuracy: 0.5553\n",
            "Epoch 4/30\n",
            "73/73 [==============================] - 81s 1s/step - loss: 0.0964 - auc: 0.9866 - accuracy: 0.9797 - val_loss: 0.8909 - val_auc: 0.7632 - val_accuracy: 0.7573\n",
            "Epoch 5/30\n",
            "73/73 [==============================] - 81s 1s/step - loss: 0.0858 - auc: 0.9923 - accuracy: 0.9791 - val_loss: 1.8484 - val_auc: 0.7634 - val_accuracy: 0.7573\n",
            "Epoch 6/30\n",
            "73/73 [==============================] - 81s 1s/step - loss: 0.0938 - auc: 0.9879 - accuracy: 0.9796 - val_loss: 0.6728 - val_auc: 0.7849 - val_accuracy: 0.7487\n",
            "Epoch 7/30\n",
            "73/73 [==============================] - 81s 1s/step - loss: 0.0783 - auc: 0.9941 - accuracy: 0.9801 - val_loss: 0.6478 - val_auc: 0.7657 - val_accuracy: 0.7522\n",
            "Epoch 8/30\n",
            "73/73 [==============================] - 81s 1s/step - loss: 0.0777 - auc: 0.9940 - accuracy: 0.9776 - val_loss: 1.1749 - val_auc: 0.7675 - val_accuracy: 0.7573\n",
            "Epoch 9/30\n",
            "73/73 [==============================] - 81s 1s/step - loss: 0.0619 - auc: 0.9957 - accuracy: 0.9836 - val_loss: 0.8471 - val_auc: 0.7867 - val_accuracy: 0.7642\n",
            "Epoch 10/30\n",
            "73/73 [==============================] - 81s 1s/step - loss: 0.0556 - auc: 0.9971 - accuracy: 0.9828 - val_loss: 1.8951 - val_auc: 0.7695 - val_accuracy: 0.7573\n",
            "Epoch 11/30\n",
            "73/73 [==============================] - 81s 1s/step - loss: 0.0602 - auc: 0.9973 - accuracy: 0.9805 - val_loss: 2.0608 - val_auc: 0.7576 - val_accuracy: 0.7573\n",
            "Epoch 12/30\n",
            "73/73 [==============================] - 81s 1s/step - loss: 0.0506 - auc: 0.9978 - accuracy: 0.9841 - val_loss: 0.7959 - val_auc: 0.7665 - val_accuracy: 0.7193\n",
            "Epoch 13/30\n",
            "73/73 [==============================] - 81s 1s/step - loss: 0.0489 - auc: 0.9980 - accuracy: 0.9842 - val_loss: 1.0728 - val_auc: 0.7815 - val_accuracy: 0.7427\n",
            "Epoch 14/30\n",
            "73/73 [==============================] - 81s 1s/step - loss: 0.0333 - auc: 0.9991 - accuracy: 0.9886 - val_loss: 2.5246 - val_auc: 0.7728 - val_accuracy: 0.7565\n",
            "Epoch 15/30\n",
            "73/73 [==============================] - 81s 1s/step - loss: 0.0282 - auc: 0.9994 - accuracy: 0.9890 - val_loss: 2.8170 - val_auc: 0.7641 - val_accuracy: 0.7591\n",
            "Epoch 16/30\n",
            "73/73 [==============================] - 81s 1s/step - loss: 0.0234 - auc: 0.9996 - accuracy: 0.9917 - val_loss: 2.4174 - val_auc: 0.7645 - val_accuracy: 0.7582\n",
            "Epoch 17/30\n",
            "73/73 [==============================] - 81s 1s/step - loss: 0.0196 - auc: 0.9998 - accuracy: 0.9925 - val_loss: 1.7446 - val_auc: 0.7623 - val_accuracy: 0.7107\n",
            "Epoch 18/30\n",
            "73/73 [==============================] - 81s 1s/step - loss: 0.0194 - auc: 0.9997 - accuracy: 0.9936 - val_loss: 3.4340 - val_auc: 0.7718 - val_accuracy: 0.7608\n",
            "Epoch 19/30\n",
            "73/73 [==============================] - 81s 1s/step - loss: 0.0046 - auc: 1.0000 - accuracy: 0.9988 - val_loss: 2.1252 - val_auc: 0.7815 - val_accuracy: 0.7591\n",
            "Epoch 20/30\n",
            "73/73 [==============================] - 81s 1s/step - loss: 0.0238 - auc: 0.9997 - accuracy: 0.9888 - val_loss: 1.9116 - val_auc: 0.7698 - val_accuracy: 0.7349\n",
            "Epoch 21/30\n",
            "73/73 [==============================] - 81s 1s/step - loss: 0.0152 - auc: 0.9998 - accuracy: 0.9940 - val_loss: 2.5931 - val_auc: 0.7731 - val_accuracy: 0.7625\n",
            "Epoch 22/30\n",
            "73/73 [==============================] - 81s 1s/step - loss: 0.0050 - auc: 1.0000 - accuracy: 0.9982 - val_loss: 2.9174 - val_auc: 0.7736 - val_accuracy: 0.7547\n",
            "Epoch 23/30\n",
            "73/73 [==============================] - 81s 1s/step - loss: 0.0065 - auc: 1.0000 - accuracy: 0.9986 - val_loss: 3.1833 - val_auc: 0.7681 - val_accuracy: 0.7617\n",
            "Epoch 24/30\n",
            "73/73 [==============================] - 81s 1s/step - loss: 0.0010 - auc: 1.0000 - accuracy: 1.0000 - val_loss: 3.2186 - val_auc: 0.7753 - val_accuracy: 0.7625\n",
            "Epoch 25/30\n",
            "73/73 [==============================] - 81s 1s/step - loss: 0.0015 - auc: 1.0000 - accuracy: 0.9992 - val_loss: 3.7519 - val_auc: 0.7693 - val_accuracy: 0.7617\n",
            "Epoch 26/30\n",
            "73/73 [==============================] - 81s 1s/step - loss: 1.1262e-04 - auc: 1.0000 - accuracy: 1.0000 - val_loss: 3.6453 - val_auc: 0.7708 - val_accuracy: 0.7634\n",
            "Epoch 27/30\n",
            "73/73 [==============================] - 81s 1s/step - loss: 9.7229e-05 - auc: 1.0000 - accuracy: 1.0000 - val_loss: 3.6649 - val_auc: 0.7742 - val_accuracy: 0.7634\n",
            "Epoch 28/30\n",
            "73/73 [==============================] - 81s 1s/step - loss: 4.7315e-05 - auc: 1.0000 - accuracy: 1.0000 - val_loss: 3.7698 - val_auc: 0.7727 - val_accuracy: 0.7634\n",
            "Epoch 29/30\n",
            "73/73 [==============================] - 81s 1s/step - loss: 4.4282e-05 - auc: 1.0000 - accuracy: 1.0000 - val_loss: 3.8326 - val_auc: 0.7708 - val_accuracy: 0.7625\n",
            "Epoch 30/30\n",
            "73/73 [==============================] - 81s 1s/step - loss: 4.6952e-05 - auc: 1.0000 - accuracy: 1.0000 - val_loss: 3.8969 - val_auc: 0.7714 - val_accuracy: 0.7625\n"
          ],
          "name": "stdout"
        }
      ]
    },
    {
      "cell_type": "code",
      "metadata": {
        "id": "7x4daEjWKIlJ",
        "colab": {
          "base_uri": "https://localhost:8080/",
          "height": 676,
          "referenced_widgets": [
            "a909b1e5fe644ab9a5f76ae591c9975f",
            "4ba82fdb978342ba860c4fa063193ec3",
            "4a40960869524bc48ffff7a9f9513645",
            "a78633992c22482e94c880afeb6354a6",
            "eb8b2513f40744ac89b4c088902f7d8b",
            "70ac41bc9a8b499cbc0d82a6c9c17422",
            "ec80e5ccf7ab40aea5f6f863b071a0a7",
            "6ceab0b1036a48a2adf9cbcb06f6c95b"
          ]
        },
        "outputId": "4c5b8dfd-284e-464a-c953-0c36252e12b3"
      },
      "source": [
        "wandb.finish()\n",
        "\n",
        "#model.save(\"/content/drive/MyDrive/DATA_2040/Molecular Exploration/model_checkpoints/SMILES_CNN.hdf5\")"
      ],
      "execution_count": 16,
      "outputs": [
        {
          "output_type": "display_data",
          "data": {
            "text/html": [
              "<br/>Waiting for W&B process to finish, PID 2612<br/>Program ended successfully."
            ],
            "text/plain": [
              "<IPython.core.display.HTML object>"
            ]
          },
          "metadata": {
            "tags": []
          }
        },
        {
          "output_type": "display_data",
          "data": {
            "application/vnd.jupyter.widget-view+json": {
              "model_id": "a909b1e5fe644ab9a5f76ae591c9975f",
              "version_minor": 0,
              "version_major": 2
            },
            "text/plain": [
              "VBox(children=(Label(value=' 1.66MB of 1.66MB uploaded (0.00MB deduped)\\r'), FloatProgress(value=1.0, max=1.0)…"
            ]
          },
          "metadata": {
            "tags": []
          }
        },
        {
          "output_type": "display_data",
          "data": {
            "text/html": [
              "Find user logs for this run at: <code>/content/wandb/run-20210419_222234-pvrlcg0l/logs/debug.log</code>"
            ],
            "text/plain": [
              "<IPython.core.display.HTML object>"
            ]
          },
          "metadata": {
            "tags": []
          }
        },
        {
          "output_type": "display_data",
          "data": {
            "text/html": [
              "Find internal logs for this run at: <code>/content/wandb/run-20210419_222234-pvrlcg0l/logs/debug-internal.log</code>"
            ],
            "text/plain": [
              "<IPython.core.display.HTML object>"
            ]
          },
          "metadata": {
            "tags": []
          }
        },
        {
          "output_type": "display_data",
          "data": {
            "text/html": [
              "<h3>Run summary:</h3><br/><style>\n",
              "    table.wandb td:nth-child(1) { padding: 0 10px; text-align: right }\n",
              "    </style><table class=\"wandb\">\n",
              "<tr><td>epoch</td><td>29</td></tr><tr><td>loss</td><td>4e-05</td></tr><tr><td>auc</td><td>1.0</td></tr><tr><td>accuracy</td><td>1.0</td></tr><tr><td>val_loss</td><td>3.89688</td></tr><tr><td>val_auc</td><td>0.77138</td></tr><tr><td>val_accuracy</td><td>0.76252</td></tr><tr><td>_runtime</td><td>2480</td></tr><tr><td>_timestamp</td><td>1618873434</td></tr><tr><td>_step</td><td>29</td></tr><tr><td>best_val_loss</td><td>0.6478</td></tr><tr><td>best_epoch</td><td>6</td></tr></table>"
            ],
            "text/plain": [
              "<IPython.core.display.HTML object>"
            ]
          },
          "metadata": {
            "tags": []
          }
        },
        {
          "output_type": "display_data",
          "data": {
            "text/html": [
              "<h3>Run history:</h3><br/><style>\n",
              "    table.wandb td:nth-child(1) { padding: 0 10px; text-align: right }\n",
              "    </style><table class=\"wandb\">\n",
              "<tr><td>epoch</td><td>▁▁▁▂▂▂▂▃▃▃▃▄▄▄▄▅▅▅▅▆▆▆▆▇▇▇▇███</td></tr><tr><td>loss</td><td>█▆▆▆▆▆▅▅▅▄▄▄▃▃▃▂▂▂▁▂▂▁▁▁▁▁▁▁▁▁</td></tr><tr><td>auc</td><td>▁▂▃▃▄▄▅▅▆▆▇▇▇▇████████████████</td></tr><tr><td>accuracy</td><td>▁▂▂▂▂▂▂▂▂▃▃▃▄▄▄▆▆▆▇▄▆▇████████</td></tr><tr><td>val_loss</td><td>█▁▁▁▁▁▁▁▁▁▁▁▁▁▁▁▁▁▁▁▁▁▁▁▁▁▁▁▁▁</td></tr><tr><td>val_auc</td><td>▁█▅███████████████████████████</td></tr><tr><td>val_accuracy</td><td>▁█▅████████▇████▇█████████████</td></tr><tr><td>_runtime</td><td>▁▁▁▂▂▂▂▃▃▃▃▄▄▄▄▅▅▅▅▆▆▆▆▇▇▇▇███</td></tr><tr><td>_timestamp</td><td>▁▁▁▂▂▂▂▃▃▃▃▄▄▄▄▅▅▅▅▆▆▆▆▇▇▇▇███</td></tr><tr><td>_step</td><td>▁▁▁▂▂▂▂▃▃▃▃▄▄▄▄▅▅▅▅▆▆▆▆▇▇▇▇███</td></tr></table><br/>"
            ],
            "text/plain": [
              "<IPython.core.display.HTML object>"
            ]
          },
          "metadata": {
            "tags": []
          }
        },
        {
          "output_type": "display_data",
          "data": {
            "text/html": [
              "Synced 5 W&B file(s), 1 media file(s), 0 artifact file(s) and 1 other file(s)"
            ],
            "text/plain": [
              "<IPython.core.display.HTML object>"
            ]
          },
          "metadata": {
            "tags": []
          }
        },
        {
          "output_type": "display_data",
          "data": {
            "text/html": [
              "\n",
              "                    <br/>Synced <strong style=\"color:#cdcd00\">apricot-sky-1</strong>: <a href=\"https://wandb.ai/jgreen/SMILES_CNN_v2/runs/pvrlcg0l\" target=\"_blank\">https://wandb.ai/jgreen/SMILES_CNN_v2/runs/pvrlcg0l</a><br/>\n",
              "                "
            ],
            "text/plain": [
              "<IPython.core.display.HTML object>"
            ]
          },
          "metadata": {
            "tags": []
          }
        }
      ]
    }
  ]
}